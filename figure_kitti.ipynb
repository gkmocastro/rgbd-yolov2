{
 "cells": [
  {
   "cell_type": "code",
   "execution_count": 2,
   "metadata": {},
   "outputs": [],
   "source": [
    "import os\n",
    "import cv2\n",
    "import numpy as np\n",
    "import matplotlib.pyplot as plt"
   ]
  },
  {
   "cell_type": "code",
   "execution_count": 20,
   "metadata": {},
   "outputs": [],
   "source": [
    "def plot_and_save_detection(image_folder, depth_folder, label_folder, image_index, class_names, output_folder):\n",
    "    # Ensure the output folder exists\n",
    "    os.makedirs(output_folder, exist_ok=True)\n",
    "\n",
    "    # Get the image, depth, and label files\n",
    "    image_files = sorted(os.listdir(image_folder))\n",
    "    depth_files = sorted(os.listdir(depth_folder))\n",
    "    label_files = sorted(os.listdir(label_folder))\n",
    "    \n",
    "    image_file = os.path.join(image_folder, image_files[image_index])\n",
    "    depth_file = os.path.join(depth_folder, depth_files[image_index])\n",
    "    label_file = os.path.join(label_folder, label_files[image_index])\n",
    "\n",
    "    # Load the RGB image and depth map\n",
    "    image = cv2.imread(image_file)\n",
    "    image = cv2.cvtColor(image, cv2.COLOR_BGR2RGB)\n",
    "    depth_map = cv2.imread(depth_file, cv2.IMREAD_GRAYSCALE)\n",
    "\n",
    "    # Load the labels\n",
    "    with open(label_file, 'r') as f:\n",
    "        lines = f.readlines()\n",
    "    \n",
    "    # Parse labels\n",
    "    labels = [line.strip().split() for line in lines]\n",
    "\n",
    "    # Create a function to draw bounding boxes\n",
    "    def draw_boxes(image, labels, color):\n",
    "        h, w = image.shape[:2]\n",
    "        for label in labels:\n",
    "            class_idx, x_center, y_center, box_width, box_height = map(float, label)\n",
    "            class_name = class_names[int(class_idx)]\n",
    "            \n",
    "            # Convert YOLO format to pixel coordinates\n",
    "            x_center *= w\n",
    "            y_center *= h\n",
    "            box_width *= w\n",
    "            box_height *= h\n",
    "\n",
    "            x1 = int(x_center - box_width / 2)\n",
    "            y1 = int(y_center - box_height / 2)\n",
    "            x2 = int(x_center + box_width / 2)\n",
    "            y2 = int(y_center + box_height / 2)\n",
    "\n",
    "            # Draw the rectangle and label\n",
    "            image = cv2.rectangle(image, (x1, y1), (x2, y2), color, 2)\n",
    "            image = cv2.putText(image, class_name, (x1, y1 - 10), cv2.FONT_HERSHEY_SIMPLEX, 0.5, color, 2)\n",
    "        return image\n",
    "\n",
    "    # Draw bounding boxes on both images\n",
    "    image_with_boxes = draw_boxes(image.copy(), labels, (255, 0, 0))  # Red boxes\n",
    "    depth_with_boxes = draw_boxes(cv2.cvtColor(depth_map.copy(), cv2.COLOR_GRAY2RGB), labels, (0, 255, 0))  # Green boxes\n",
    "\n",
    "    # Create a combined visualization\n",
    "    fig, axs = plt.subplots(2, 1, figsize=(12, 8))\n",
    "\n",
    "    # Plot the RGB image\n",
    "    axs[0].imshow(image_with_boxes)\n",
    "    axs[0].set_title(\"Imagem RGB com Ground Truth\")\n",
    "    axs[0].axis(\"off\")\n",
    "\n",
    "    # Plot the depth map\n",
    "    axs[1].imshow(depth_with_boxes)\n",
    "    axs[1].set_title(\"Mapa de profundidade Ground Truth\")\n",
    "    axs[1].axis(\"off\")\n",
    "\n",
    "    plt.tight_layout()\n",
    "\n",
    "    # Save the combined image as a PNG file\n",
    "    output_path = os.path.join(output_folder, f\"output_{image_index:04d}.png\")\n",
    "    plt.savefig(output_path)\n",
    "    plt.close()\n",
    "\n",
    "    print(f\"Saved visualization to {output_path}\")"
   ]
  },
  {
   "cell_type": "code",
   "execution_count": 21,
   "metadata": {},
   "outputs": [
    {
     "name": "stdout",
     "output_type": "stream",
     "text": [
      "Saved visualization to ./figs/output_0024.png\n"
     ]
    }
   ],
   "source": [
    "# Example usage\n",
    "image_folder = \"data/data_split/test/images\"\n",
    "depth_folder = \"data/data_split/test/depth\"\n",
    "label_path = \"data/data_split/test/labels\"\n",
    "image_index = 24\n",
    "class_names = [\"Pedestre\", \"Ciclista\", \"Carro\"]\n",
    "output_folder = \"./figs\"\n",
    "\n",
    "plot_and_save_detection(image_folder, depth_folder, label_path, image_index, class_names, output_folder)"
   ]
  }
 ],
 "metadata": {
  "kernelspec": {
   "display_name": ".venv",
   "language": "python",
   "name": "python3"
  },
  "language_info": {
   "codemirror_mode": {
    "name": "ipython",
    "version": 3
   },
   "file_extension": ".py",
   "mimetype": "text/x-python",
   "name": "python",
   "nbconvert_exporter": "python",
   "pygments_lexer": "ipython3",
   "version": "3.10.12"
  }
 },
 "nbformat": 4,
 "nbformat_minor": 2
}
