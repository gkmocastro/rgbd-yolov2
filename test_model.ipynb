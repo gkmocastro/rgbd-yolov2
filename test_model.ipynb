{
 "cells": [
  {
   "cell_type": "code",
   "execution_count": 1,
   "metadata": {},
   "outputs": [
    {
     "name": "stderr",
     "output_type": "stream",
     "text": [
      "/home/gustavo/workstation/depth_estimation/codes/RGBD-fusion-detection/.venv/lib/python3.10/site-packages/tqdm/auto.py:21: TqdmWarning: IProgress not found. Please update jupyter and ipywidgets. See https://ipywidgets.readthedocs.io/en/stable/user_install.html\n",
      "  from .autonotebook import tqdm as notebook_tqdm\n"
     ]
    }
   ],
   "source": [
    "import torch\n",
    "from torch import nn\n",
    "import lightnet as ln\n",
    "from torchinfo import summary"
   ]
  },
  {
   "cell_type": "code",
   "execution_count": 2,
   "metadata": {},
   "outputs": [
    {
     "name": "stderr",
     "output_type": "stream",
     "text": [
      "Weight file uses sizeof to compute variable size, which might lead to undefined behaviour. (choosing int=int32, float=float32)\n",
      "/home/gustavo/workstation/depth_estimation/codes/RGBD-fusion-detection/.venv/lib/python3.10/site-packages/lightnet/network/module/_lightnet.py:293: FutureWarning: You are using `torch.load` with `weights_only=False` (the current default value), which uses the default pickle module implicitly. It is possible to construct malicious pickle data which will execute arbitrary code during unpickling (See https://github.com/pytorch/pytorch/blob/main/SECURITY.md#untrusted-models for more details). In a future release, the default value for `weights_only` will be flipped to `True`. This limits the functions that could be executed during unpickling. Arbitrary objects will no longer be allowed to be loaded via this mode unless they are explicitly allowlisted by the user via `torch.serialization.add_safe_globals`. We recommend you start setting `weights_only=True` for any use case where you don't have full control of the loaded file. Please open an issue on GitHub for any issues related to this experimental feature.\n",
      "  state = torch.load(weights_file, 'cpu')\n",
      "Modules not matching, performing partial update\n"
     ]
    }
   ],
   "source": [
    "model = ln.models.Darknet19(1000)\n",
    "model.load('weights/darknet19_448.weights')\n",
    "\n",
    "# Save as PyTorch weight file (Not strictly necessary, but it is faster than darknet weight files)\n",
    "model.save('weights/darknet19_448.pt')\n",
    "\n",
    "# Converting Darknet19 weights to Yolo (This is the same as the darknet19_448.conv.23.weights from darknet)\n",
    "model.save('weights/yolo-pretrained_darknet.pt', remap=ln.models.YoloV2.remap_darknet19)\n",
    "\n",
    "# Load yolo weights (Requires `strict=False`, because not all layers have weights in this file)\n",
    "detection_model = ln.models.YoloV2(3)\n",
    "detection_model.load('weights/yolo-pretrained_darknet.pt', strict=False)"
   ]
  },
  {
   "cell_type": "code",
   "execution_count": 8,
   "metadata": {},
   "outputs": [
    {
     "data": {
      "text/plain": [
       "=============================================================================================================================\n",
       "Layer (type (var_name))                       Input Shape          Output Shape         Param #              Trainable\n",
       "=============================================================================================================================\n",
       "YoloV2 (YoloV2)                               [1, 3, 416, 416]     [1, 125, 13, 13]     --                   True\n",
       "├─FeatureExtractor (backbone)                 [1, 3, 416, 416]     [1, 1024, 13, 13]    --                   True\n",
       "│    └─Sequential (module)                    [1, 3, 416, 416]     [1, 1024, 13, 13]    --                   True\n",
       "│    │    └─Conv2dBatchAct (1_convbatch)      [1, 3, 416, 416]     [1, 32, 416, 416]    928                  True\n",
       "│    │    └─MaxPool2d (2_max)                 [1, 32, 416, 416]    [1, 32, 208, 208]    --                   --\n",
       "│    │    └─Conv2dBatchAct (3_convbatch)      [1, 32, 208, 208]    [1, 64, 208, 208]    18,560               True\n",
       "│    │    └─MaxPool2d (4_max)                 [1, 64, 208, 208]    [1, 64, 104, 104]    --                   --\n",
       "│    │    └─Conv2dBatchAct (5_convbatch)      [1, 64, 104, 104]    [1, 128, 104, 104]   73,984               True\n",
       "│    │    └─Conv2dBatchAct (6_convbatch)      [1, 128, 104, 104]   [1, 64, 104, 104]    8,320                True\n",
       "│    │    └─Conv2dBatchAct (7_convbatch)      [1, 64, 104, 104]    [1, 128, 104, 104]   73,984               True\n",
       "│    │    └─MaxPool2d (8_max)                 [1, 128, 104, 104]   [1, 128, 52, 52]     --                   --\n",
       "│    │    └─Conv2dBatchAct (9_convbatch)      [1, 128, 52, 52]     [1, 256, 52, 52]     295,424              True\n",
       "│    │    └─Conv2dBatchAct (10_convbatch)     [1, 256, 52, 52]     [1, 128, 52, 52]     33,024               True\n",
       "│    │    └─Conv2dBatchAct (11_convbatch)     [1, 128, 52, 52]     [1, 256, 52, 52]     295,424              True\n",
       "│    │    └─MaxPool2d (12_max)                [1, 256, 52, 52]     [1, 256, 26, 26]     --                   --\n",
       "│    │    └─Conv2dBatchAct (13_convbatch)     [1, 256, 26, 26]     [1, 512, 26, 26]     1,180,672            True\n",
       "│    │    └─Conv2dBatchAct (14_convbatch)     [1, 512, 26, 26]     [1, 256, 26, 26]     131,584              True\n",
       "│    │    └─Conv2dBatchAct (15_convbatch)     [1, 256, 26, 26]     [1, 512, 26, 26]     1,180,672            True\n",
       "│    │    └─Conv2dBatchAct (16_convbatch)     [1, 512, 26, 26]     [1, 256, 26, 26]     131,584              True\n",
       "│    │    └─Conv2dBatchAct (17_convbatch)     [1, 256, 26, 26]     [1, 512, 26, 26]     1,180,672            True\n",
       "│    │    └─MaxPool2d (18_max)                [1, 512, 26, 26]     [1, 512, 13, 13]     --                   --\n",
       "│    │    └─Conv2dBatchAct (19_convbatch)     [1, 512, 13, 13]     [1, 1024, 13, 13]    4,720,640            True\n",
       "│    │    └─Conv2dBatchAct (20_convbatch)     [1, 1024, 13, 13]    [1, 512, 13, 13]     525,312              True\n",
       "│    │    └─Conv2dBatchAct (21_convbatch)     [1, 512, 13, 13]     [1, 1024, 13, 13]    4,720,640            True\n",
       "│    │    └─Conv2dBatchAct (22_convbatch)     [1, 1024, 13, 13]    [1, 512, 13, 13]     525,312              True\n",
       "│    │    └─Conv2dBatchAct (23_convbatch)     [1, 512, 13, 13]     [1, 1024, 13, 13]    4,720,640            True\n",
       "├─ModuleList (neck)                           --                   --                   --                   True\n",
       "│    └─Sequential (0)                         [1, 1024, 13, 13]    [1, 1024, 13, 13]    --                   True\n",
       "│    │    └─Conv2dBatchAct (0)                [1, 1024, 13, 13]    [1, 1024, 13, 13]    9,439,232            True\n",
       "│    │    └─Conv2dBatchAct (1)                [1, 1024, 13, 13]    [1, 1024, 13, 13]    9,439,232            True\n",
       "│    └─Sequential (1)                         [1, 512, 26, 26]     [1, 256, 13, 13]     --                   True\n",
       "│    │    └─Conv2dBatchAct (0)                [1, 512, 26, 26]     [1, 64, 26, 26]      32,896               True\n",
       "│    │    └─Reorg (1)                         [1, 64, 26, 26]      [1, 256, 13, 13]     --                   --\n",
       "├─Sequential (head)                           [1, 1280, 13, 13]    [1, 125, 13, 13]     --                   True\n",
       "│    └─Conv2dBatchAct (0)                     [1, 1280, 13, 13]    [1, 1024, 13, 13]    --                   True\n",
       "│    │    └─ModuleList (layers)               --                   --                   11,798,528           True\n",
       "│    └─Conv2d (1)                             [1, 1024, 13, 13]    [1, 125, 13, 13]     128,125              True\n",
       "=============================================================================================================================\n",
       "Total params: 50,655,389\n",
       "Trainable params: 50,655,389\n",
       "Non-trainable params: 0\n",
       "Total mult-adds (G): 14.68\n",
       "=============================================================================================================================\n",
       "Input size (MB): 2.08\n",
       "Forward/backward pass size (MB): 258.37\n",
       "Params size (MB): 202.62\n",
       "Estimated Total Size (MB): 463.07\n",
       "============================================================================================================================="
      ]
     },
     "execution_count": 8,
     "metadata": {},
     "output_type": "execute_result"
    }
   ],
   "source": [
    "summary(model=detection_model, \n",
    "        input_size=(1, 3, 416, 416), # make sure this is \"input_size\", not \"input_shape\"\n",
    "        # col_names=[\"input_size\"], # uncomment for smaller output\n",
    "        col_names=[\"input_size\", \"output_size\", \"num_params\", \"trainable\"],\n",
    "        col_width=20,\n",
    "        row_settings=[\"var_names\"])"
   ]
  },
  {
   "cell_type": "code",
   "execution_count": null,
   "metadata": {},
   "outputs": [],
   "source": [
    "for i in model.state_dict().keys():\n",
    "    print(i)"
   ]
  },
  {
   "cell_type": "code",
   "execution_count": 14,
   "metadata": {},
   "outputs": [],
   "source": [
    "model_fusion = ln.models.YoloFusion(20)"
   ]
  },
  {
   "cell_type": "code",
   "execution_count": 15,
   "metadata": {},
   "outputs": [
    {
     "ename": "RuntimeError",
     "evalue": "Failed to run torchinfo. See above stack traces for more details. Executed layers up to: []",
     "output_type": "error",
     "traceback": [
      "\u001b[0;31m---------------------------------------------------------------------------\u001b[0m",
      "\u001b[0;31mTypeError\u001b[0m                                 Traceback (most recent call last)",
      "File \u001b[0;32m~/workstation/depth_estimation/codes/RGBD-fusion-detection/.venv/lib/python3.10/site-packages/torchinfo/torchinfo.py:295\u001b[0m, in \u001b[0;36mforward_pass\u001b[0;34m(model, x, batch_dim, cache_forward_pass, device, mode, **kwargs)\u001b[0m\n\u001b[1;32m    294\u001b[0m \u001b[38;5;28;01mif\u001b[39;00m \u001b[38;5;28misinstance\u001b[39m(x, (\u001b[38;5;28mlist\u001b[39m, \u001b[38;5;28mtuple\u001b[39m)):\n\u001b[0;32m--> 295\u001b[0m     _ \u001b[38;5;241m=\u001b[39m \u001b[43mmodel\u001b[49m\u001b[43m(\u001b[49m\u001b[38;5;241;43m*\u001b[39;49m\u001b[43mx\u001b[49m\u001b[43m,\u001b[49m\u001b[43m \u001b[49m\u001b[38;5;241;43m*\u001b[39;49m\u001b[38;5;241;43m*\u001b[39;49m\u001b[43mkwargs\u001b[49m\u001b[43m)\u001b[49m\n\u001b[1;32m    296\u001b[0m \u001b[38;5;28;01melif\u001b[39;00m \u001b[38;5;28misinstance\u001b[39m(x, \u001b[38;5;28mdict\u001b[39m):\n",
      "File \u001b[0;32m~/workstation/depth_estimation/codes/RGBD-fusion-detection/.venv/lib/python3.10/site-packages/torch/nn/modules/module.py:1553\u001b[0m, in \u001b[0;36mModule._wrapped_call_impl\u001b[0;34m(self, *args, **kwargs)\u001b[0m\n\u001b[1;32m   1552\u001b[0m \u001b[38;5;28;01melse\u001b[39;00m:\n\u001b[0;32m-> 1553\u001b[0m     \u001b[38;5;28;01mreturn\u001b[39;00m \u001b[38;5;28;43mself\u001b[39;49m\u001b[38;5;241;43m.\u001b[39;49m\u001b[43m_call_impl\u001b[49m\u001b[43m(\u001b[49m\u001b[38;5;241;43m*\u001b[39;49m\u001b[43margs\u001b[49m\u001b[43m,\u001b[49m\u001b[43m \u001b[49m\u001b[38;5;241;43m*\u001b[39;49m\u001b[38;5;241;43m*\u001b[39;49m\u001b[43mkwargs\u001b[49m\u001b[43m)\u001b[49m\n",
      "File \u001b[0;32m~/workstation/depth_estimation/codes/RGBD-fusion-detection/.venv/lib/python3.10/site-packages/torch/nn/modules/module.py:1603\u001b[0m, in \u001b[0;36mModule._call_impl\u001b[0;34m(self, *args, **kwargs)\u001b[0m\n\u001b[1;32m   1601\u001b[0m     args \u001b[38;5;241m=\u001b[39m bw_hook\u001b[38;5;241m.\u001b[39msetup_input_hook(args)\n\u001b[0;32m-> 1603\u001b[0m result \u001b[38;5;241m=\u001b[39m \u001b[43mforward_call\u001b[49m\u001b[43m(\u001b[49m\u001b[38;5;241;43m*\u001b[39;49m\u001b[43margs\u001b[49m\u001b[43m,\u001b[49m\u001b[43m \u001b[49m\u001b[38;5;241;43m*\u001b[39;49m\u001b[38;5;241;43m*\u001b[39;49m\u001b[43mkwargs\u001b[49m\u001b[43m)\u001b[49m\n\u001b[1;32m   1604\u001b[0m \u001b[38;5;28;01mif\u001b[39;00m _global_forward_hooks \u001b[38;5;129;01mor\u001b[39;00m \u001b[38;5;28mself\u001b[39m\u001b[38;5;241m.\u001b[39m_forward_hooks:\n",
      "File \u001b[0;32m~/workstation/depth_estimation/codes/RGBD-fusion-detection/.venv/lib/python3.10/site-packages/lightnet/models/_network_yolo_fusion.py:176\u001b[0m, in \u001b[0;36mYoloFusion.forward\u001b[0;34m(self, x)\u001b[0m\n\u001b[1;32m    175\u001b[0m \u001b[38;5;28;01mif\u001b[39;00m x\u001b[38;5;241m.\u001b[39msize(\u001b[38;5;241m1\u001b[39m) \u001b[38;5;241m!=\u001b[39m \u001b[38;5;28mself\u001b[39m\u001b[38;5;241m.\u001b[39minput_channels \u001b[38;5;241m+\u001b[39m \u001b[38;5;28mself\u001b[39m\u001b[38;5;241m.\u001b[39mfusion_channels:\n\u001b[0;32m--> 176\u001b[0m     \u001b[38;5;28;01mraise\u001b[39;00m \u001b[38;5;167;01mTypeError\u001b[39;00m(\u001b[38;5;124mf\u001b[39m\u001b[38;5;124m'\u001b[39m\u001b[38;5;124mThis network requires \u001b[39m\u001b[38;5;132;01m{\u001b[39;00m\u001b[38;5;28mself\u001b[39m\u001b[38;5;241m.\u001b[39minput_channels\u001b[38;5;241m+\u001b[39m\u001b[38;5;28mself\u001b[39m\u001b[38;5;241m.\u001b[39mfusion_channels\u001b[38;5;132;01m}\u001b[39;00m\u001b[38;5;124m channel input images\u001b[39m\u001b[38;5;124m'\u001b[39m)\n\u001b[1;32m    178\u001b[0m \u001b[38;5;66;03m# First layer\u001b[39;00m\n",
      "\u001b[0;31mTypeError\u001b[0m: This network requires 4 channel input images",
      "\nThe above exception was the direct cause of the following exception:\n",
      "\u001b[0;31mRuntimeError\u001b[0m                              Traceback (most recent call last)",
      "Cell \u001b[0;32mIn[15], line 1\u001b[0m\n\u001b[0;32m----> 1\u001b[0m \u001b[43msummary\u001b[49m\u001b[43m(\u001b[49m\u001b[43mmodel\u001b[49m\u001b[38;5;241;43m=\u001b[39;49m\u001b[43mmodel_fusion\u001b[49m\u001b[43m,\u001b[49m\u001b[43m \u001b[49m\n\u001b[1;32m      2\u001b[0m \u001b[43m        \u001b[49m\u001b[43minput_size\u001b[49m\u001b[38;5;241;43m=\u001b[39;49m\u001b[43m(\u001b[49m\u001b[38;5;241;43m1\u001b[39;49m\u001b[43m,\u001b[49m\u001b[43m \u001b[49m\u001b[38;5;241;43m3\u001b[39;49m\u001b[43m,\u001b[49m\u001b[43m \u001b[49m\u001b[38;5;241;43m416\u001b[39;49m\u001b[43m,\u001b[49m\u001b[43m \u001b[49m\u001b[38;5;241;43m416\u001b[39;49m\u001b[43m)\u001b[49m\u001b[43m,\u001b[49m\u001b[43m \u001b[49m\u001b[38;5;66;43;03m# make sure this is \"input_size\", not \"input_shape\"\u001b[39;49;00m\n\u001b[1;32m      3\u001b[0m \u001b[43m        \u001b[49m\u001b[38;5;66;43;03m# col_names=[\"input_size\"], # uncomment for smaller output\u001b[39;49;00m\n\u001b[1;32m      4\u001b[0m \u001b[43m        \u001b[49m\u001b[43mcol_names\u001b[49m\u001b[38;5;241;43m=\u001b[39;49m\u001b[43m[\u001b[49m\u001b[38;5;124;43m\"\u001b[39;49m\u001b[38;5;124;43minput_size\u001b[39;49m\u001b[38;5;124;43m\"\u001b[39;49m\u001b[43m,\u001b[49m\u001b[43m \u001b[49m\u001b[38;5;124;43m\"\u001b[39;49m\u001b[38;5;124;43moutput_size\u001b[39;49m\u001b[38;5;124;43m\"\u001b[39;49m\u001b[43m,\u001b[49m\u001b[43m \u001b[49m\u001b[38;5;124;43m\"\u001b[39;49m\u001b[38;5;124;43mnum_params\u001b[39;49m\u001b[38;5;124;43m\"\u001b[39;49m\u001b[43m,\u001b[49m\u001b[43m \u001b[49m\u001b[38;5;124;43m\"\u001b[39;49m\u001b[38;5;124;43mtrainable\u001b[39;49m\u001b[38;5;124;43m\"\u001b[39;49m\u001b[43m]\u001b[49m\u001b[43m,\u001b[49m\n\u001b[1;32m      5\u001b[0m \u001b[43m        \u001b[49m\u001b[43mcol_width\u001b[49m\u001b[38;5;241;43m=\u001b[39;49m\u001b[38;5;241;43m20\u001b[39;49m\u001b[43m,\u001b[49m\n\u001b[1;32m      6\u001b[0m \u001b[43m        \u001b[49m\u001b[43mrow_settings\u001b[49m\u001b[38;5;241;43m=\u001b[39;49m\u001b[43m[\u001b[49m\u001b[38;5;124;43m\"\u001b[39;49m\u001b[38;5;124;43mvar_names\u001b[39;49m\u001b[38;5;124;43m\"\u001b[39;49m\u001b[43m]\u001b[49m\u001b[43m)\u001b[49m\n",
      "File \u001b[0;32m~/workstation/depth_estimation/codes/RGBD-fusion-detection/.venv/lib/python3.10/site-packages/torchinfo/torchinfo.py:223\u001b[0m, in \u001b[0;36msummary\u001b[0;34m(model, input_size, input_data, batch_dim, cache_forward_pass, col_names, col_width, depth, device, dtypes, mode, row_settings, verbose, **kwargs)\u001b[0m\n\u001b[1;32m    216\u001b[0m validate_user_params(\n\u001b[1;32m    217\u001b[0m     input_data, input_size, columns, col_width, device, dtypes, verbose\n\u001b[1;32m    218\u001b[0m )\n\u001b[1;32m    220\u001b[0m x, correct_input_size \u001b[38;5;241m=\u001b[39m process_input(\n\u001b[1;32m    221\u001b[0m     input_data, input_size, batch_dim, device, dtypes\n\u001b[1;32m    222\u001b[0m )\n\u001b[0;32m--> 223\u001b[0m summary_list \u001b[38;5;241m=\u001b[39m \u001b[43mforward_pass\u001b[49m\u001b[43m(\u001b[49m\n\u001b[1;32m    224\u001b[0m \u001b[43m    \u001b[49m\u001b[43mmodel\u001b[49m\u001b[43m,\u001b[49m\u001b[43m \u001b[49m\u001b[43mx\u001b[49m\u001b[43m,\u001b[49m\u001b[43m \u001b[49m\u001b[43mbatch_dim\u001b[49m\u001b[43m,\u001b[49m\u001b[43m \u001b[49m\u001b[43mcache_forward_pass\u001b[49m\u001b[43m,\u001b[49m\u001b[43m \u001b[49m\u001b[43mdevice\u001b[49m\u001b[43m,\u001b[49m\u001b[43m \u001b[49m\u001b[43mmodel_mode\u001b[49m\u001b[43m,\u001b[49m\u001b[43m \u001b[49m\u001b[38;5;241;43m*\u001b[39;49m\u001b[38;5;241;43m*\u001b[39;49m\u001b[43mkwargs\u001b[49m\n\u001b[1;32m    225\u001b[0m \u001b[43m\u001b[49m\u001b[43m)\u001b[49m\n\u001b[1;32m    226\u001b[0m formatting \u001b[38;5;241m=\u001b[39m FormattingOptions(depth, verbose, columns, col_width, rows)\n\u001b[1;32m    227\u001b[0m results \u001b[38;5;241m=\u001b[39m ModelStatistics(\n\u001b[1;32m    228\u001b[0m     summary_list, correct_input_size, get_total_memory_used(x), formatting\n\u001b[1;32m    229\u001b[0m )\n",
      "File \u001b[0;32m~/workstation/depth_estimation/codes/RGBD-fusion-detection/.venv/lib/python3.10/site-packages/torchinfo/torchinfo.py:304\u001b[0m, in \u001b[0;36mforward_pass\u001b[0;34m(model, x, batch_dim, cache_forward_pass, device, mode, **kwargs)\u001b[0m\n\u001b[1;32m    302\u001b[0m \u001b[38;5;28;01mexcept\u001b[39;00m \u001b[38;5;167;01mException\u001b[39;00m \u001b[38;5;28;01mas\u001b[39;00m e:\n\u001b[1;32m    303\u001b[0m     executed_layers \u001b[38;5;241m=\u001b[39m [layer \u001b[38;5;28;01mfor\u001b[39;00m layer \u001b[38;5;129;01min\u001b[39;00m summary_list \u001b[38;5;28;01mif\u001b[39;00m layer\u001b[38;5;241m.\u001b[39mexecuted]\n\u001b[0;32m--> 304\u001b[0m     \u001b[38;5;28;01mraise\u001b[39;00m \u001b[38;5;167;01mRuntimeError\u001b[39;00m(\n\u001b[1;32m    305\u001b[0m         \u001b[38;5;124m\"\u001b[39m\u001b[38;5;124mFailed to run torchinfo. See above stack traces for more details. \u001b[39m\u001b[38;5;124m\"\u001b[39m\n\u001b[1;32m    306\u001b[0m         \u001b[38;5;124mf\u001b[39m\u001b[38;5;124m\"\u001b[39m\u001b[38;5;124mExecuted layers up to: \u001b[39m\u001b[38;5;132;01m{\u001b[39;00mexecuted_layers\u001b[38;5;132;01m}\u001b[39;00m\u001b[38;5;124m\"\u001b[39m\n\u001b[1;32m    307\u001b[0m     ) \u001b[38;5;28;01mfrom\u001b[39;00m \u001b[38;5;21;01me\u001b[39;00m\n\u001b[1;32m    308\u001b[0m \u001b[38;5;28;01mfinally\u001b[39;00m:\n\u001b[1;32m    309\u001b[0m     \u001b[38;5;28;01mif\u001b[39;00m hooks:\n",
      "\u001b[0;31mRuntimeError\u001b[0m: Failed to run torchinfo. See above stack traces for more details. Executed layers up to: []"
     ]
    }
   ],
   "source": [
    "summary(model=model_fusion, \n",
    "        input_size=(1, 3, 416, 416), # make sure this is \"input_size\", not \"input_shape\"\n",
    "        # col_names=[\"input_size\"], # uncomment for smaller output\n",
    "        col_names=[\"input_size\", \"output_size\", \"num_params\", \"trainable\"],\n",
    "        col_width=20,\n",
    "        row_settings=[\"var_names\"])"
   ]
  },
  {
   "cell_type": "code",
   "execution_count": 16,
   "metadata": {},
   "outputs": [
    {
     "name": "stdout",
     "output_type": "stream",
     "text": [
      "layers.0.fuse.weight\n",
      "layers.0.1_convbatch.layers.0.weight\n",
      "layers.0.1_convbatch.layers.1.weight\n",
      "layers.0.1_convbatch.layers.1.bias\n",
      "layers.0.1_convbatch.layers.1.running_mean\n",
      "layers.0.1_convbatch.layers.1.running_var\n",
      "layers.0.1_convbatch.layers.1.num_batches_tracked\n",
      "layers.1.combined.3_convbatch.layers.0.weight\n",
      "layers.1.combined.3_convbatch.layers.1.weight\n",
      "layers.1.combined.3_convbatch.layers.1.bias\n",
      "layers.1.combined.3_convbatch.layers.1.running_mean\n",
      "layers.1.combined.3_convbatch.layers.1.running_var\n",
      "layers.1.combined.3_convbatch.layers.1.num_batches_tracked\n",
      "layers.1.combined.5_convbatch.layers.0.weight\n",
      "layers.1.combined.5_convbatch.layers.1.weight\n",
      "layers.1.combined.5_convbatch.layers.1.bias\n",
      "layers.1.combined.5_convbatch.layers.1.running_mean\n",
      "layers.1.combined.5_convbatch.layers.1.running_var\n",
      "layers.1.combined.5_convbatch.layers.1.num_batches_tracked\n",
      "layers.1.combined.6_convbatch.layers.0.weight\n",
      "layers.1.combined.6_convbatch.layers.1.weight\n",
      "layers.1.combined.6_convbatch.layers.1.bias\n",
      "layers.1.combined.6_convbatch.layers.1.running_mean\n",
      "layers.1.combined.6_convbatch.layers.1.running_var\n",
      "layers.1.combined.6_convbatch.layers.1.num_batches_tracked\n",
      "layers.1.combined.7_convbatch.layers.0.weight\n",
      "layers.1.combined.7_convbatch.layers.1.weight\n",
      "layers.1.combined.7_convbatch.layers.1.bias\n",
      "layers.1.combined.7_convbatch.layers.1.running_mean\n",
      "layers.1.combined.7_convbatch.layers.1.running_var\n",
      "layers.1.combined.7_convbatch.layers.1.num_batches_tracked\n",
      "layers.1.combined.9_convbatch.layers.0.weight\n",
      "layers.1.combined.9_convbatch.layers.1.weight\n",
      "layers.1.combined.9_convbatch.layers.1.bias\n",
      "layers.1.combined.9_convbatch.layers.1.running_mean\n",
      "layers.1.combined.9_convbatch.layers.1.running_var\n",
      "layers.1.combined.9_convbatch.layers.1.num_batches_tracked\n",
      "layers.1.combined.10_convbatch.layers.0.weight\n",
      "layers.1.combined.10_convbatch.layers.1.weight\n",
      "layers.1.combined.10_convbatch.layers.1.bias\n",
      "layers.1.combined.10_convbatch.layers.1.running_mean\n",
      "layers.1.combined.10_convbatch.layers.1.running_var\n",
      "layers.1.combined.10_convbatch.layers.1.num_batches_tracked\n",
      "layers.1.combined.11_convbatch.layers.0.weight\n",
      "layers.1.combined.11_convbatch.layers.1.weight\n",
      "layers.1.combined.11_convbatch.layers.1.bias\n",
      "layers.1.combined.11_convbatch.layers.1.running_mean\n",
      "layers.1.combined.11_convbatch.layers.1.running_var\n",
      "layers.1.combined.11_convbatch.layers.1.num_batches_tracked\n",
      "layers.1.combined.13_convbatch.layers.0.weight\n",
      "layers.1.combined.13_convbatch.layers.1.weight\n",
      "layers.1.combined.13_convbatch.layers.1.bias\n",
      "layers.1.combined.13_convbatch.layers.1.running_mean\n",
      "layers.1.combined.13_convbatch.layers.1.running_var\n",
      "layers.1.combined.13_convbatch.layers.1.num_batches_tracked\n",
      "layers.1.combined.14_convbatch.layers.0.weight\n",
      "layers.1.combined.14_convbatch.layers.1.weight\n",
      "layers.1.combined.14_convbatch.layers.1.bias\n",
      "layers.1.combined.14_convbatch.layers.1.running_mean\n",
      "layers.1.combined.14_convbatch.layers.1.running_var\n",
      "layers.1.combined.14_convbatch.layers.1.num_batches_tracked\n",
      "layers.1.combined.15_convbatch.layers.0.weight\n",
      "layers.1.combined.15_convbatch.layers.1.weight\n",
      "layers.1.combined.15_convbatch.layers.1.bias\n",
      "layers.1.combined.15_convbatch.layers.1.running_mean\n",
      "layers.1.combined.15_convbatch.layers.1.running_var\n",
      "layers.1.combined.15_convbatch.layers.1.num_batches_tracked\n",
      "layers.1.combined.16_convbatch.layers.0.weight\n",
      "layers.1.combined.16_convbatch.layers.1.weight\n",
      "layers.1.combined.16_convbatch.layers.1.bias\n",
      "layers.1.combined.16_convbatch.layers.1.running_mean\n",
      "layers.1.combined.16_convbatch.layers.1.running_var\n",
      "layers.1.combined.16_convbatch.layers.1.num_batches_tracked\n",
      "layers.1.combined.17_convbatch.layers.0.weight\n",
      "layers.1.combined.17_convbatch.layers.1.weight\n",
      "layers.1.combined.17_convbatch.layers.1.bias\n",
      "layers.1.combined.17_convbatch.layers.1.running_mean\n",
      "layers.1.combined.17_convbatch.layers.1.running_var\n",
      "layers.1.combined.17_convbatch.layers.1.num_batches_tracked\n",
      "layers.2.combined.19_convbatch.layers.0.weight\n",
      "layers.2.combined.19_convbatch.layers.1.weight\n",
      "layers.2.combined.19_convbatch.layers.1.bias\n",
      "layers.2.combined.19_convbatch.layers.1.running_mean\n",
      "layers.2.combined.19_convbatch.layers.1.running_var\n",
      "layers.2.combined.19_convbatch.layers.1.num_batches_tracked\n",
      "layers.2.combined.20_convbatch.layers.0.weight\n",
      "layers.2.combined.20_convbatch.layers.1.weight\n",
      "layers.2.combined.20_convbatch.layers.1.bias\n",
      "layers.2.combined.20_convbatch.layers.1.running_mean\n",
      "layers.2.combined.20_convbatch.layers.1.running_var\n",
      "layers.2.combined.20_convbatch.layers.1.num_batches_tracked\n",
      "layers.2.combined.21_convbatch.layers.0.weight\n",
      "layers.2.combined.21_convbatch.layers.1.weight\n",
      "layers.2.combined.21_convbatch.layers.1.bias\n",
      "layers.2.combined.21_convbatch.layers.1.running_mean\n",
      "layers.2.combined.21_convbatch.layers.1.running_var\n",
      "layers.2.combined.21_convbatch.layers.1.num_batches_tracked\n",
      "layers.2.combined.22_convbatch.layers.0.weight\n",
      "layers.2.combined.22_convbatch.layers.1.weight\n",
      "layers.2.combined.22_convbatch.layers.1.bias\n",
      "layers.2.combined.22_convbatch.layers.1.running_mean\n",
      "layers.2.combined.22_convbatch.layers.1.running_var\n",
      "layers.2.combined.22_convbatch.layers.1.num_batches_tracked\n",
      "layers.2.combined.23_convbatch.layers.0.weight\n",
      "layers.2.combined.23_convbatch.layers.1.weight\n",
      "layers.2.combined.23_convbatch.layers.1.bias\n",
      "layers.2.combined.23_convbatch.layers.1.running_mean\n",
      "layers.2.combined.23_convbatch.layers.1.running_var\n",
      "layers.2.combined.23_convbatch.layers.1.num_batches_tracked\n",
      "layers.2.combined.24_convbatch.layers.0.weight\n",
      "layers.2.combined.24_convbatch.layers.1.weight\n",
      "layers.2.combined.24_convbatch.layers.1.bias\n",
      "layers.2.combined.24_convbatch.layers.1.running_mean\n",
      "layers.2.combined.24_convbatch.layers.1.running_var\n",
      "layers.2.combined.24_convbatch.layers.1.num_batches_tracked\n",
      "layers.2.combined.25_convbatch.layers.0.weight\n",
      "layers.2.combined.25_convbatch.layers.1.weight\n",
      "layers.2.combined.25_convbatch.layers.1.bias\n",
      "layers.2.combined.25_convbatch.layers.1.running_mean\n",
      "layers.2.combined.25_convbatch.layers.1.running_var\n",
      "layers.2.combined.25_convbatch.layers.1.num_batches_tracked\n",
      "layers.3.combined.26_convbatch.layers.0.weight\n",
      "layers.3.combined.26_convbatch.layers.1.weight\n",
      "layers.3.combined.26_convbatch.layers.1.bias\n",
      "layers.3.combined.26_convbatch.layers.1.running_mean\n",
      "layers.3.combined.26_convbatch.layers.1.running_var\n",
      "layers.3.combined.26_convbatch.layers.1.num_batches_tracked\n",
      "layers.3.combined.27_conv.weight\n",
      "layers.3.combined.27_conv.bias\n",
      "layers.4.P1_convbatch.layers.0.weight\n",
      "layers.4.P1_convbatch.layers.1.weight\n",
      "layers.4.P1_convbatch.layers.1.bias\n",
      "layers.4.P1_convbatch.layers.1.running_mean\n",
      "layers.4.P1_convbatch.layers.1.running_var\n",
      "layers.4.P1_convbatch.layers.1.num_batches_tracked\n",
      "_LN_MODEL_VERSION\n"
     ]
    }
   ],
   "source": [
    "for i in model_fusion.state_dict().keys():\n",
    "    print(i)"
   ]
  }
 ],
 "metadata": {
  "kernelspec": {
   "display_name": ".venv",
   "language": "python",
   "name": "python3"
  },
  "language_info": {
   "codemirror_mode": {
    "name": "ipython",
    "version": 3
   },
   "file_extension": ".py",
   "mimetype": "text/x-python",
   "name": "python",
   "nbconvert_exporter": "python",
   "pygments_lexer": "ipython3",
   "version": "3.10.12"
  }
 },
 "nbformat": 4,
 "nbformat_minor": 2
}
