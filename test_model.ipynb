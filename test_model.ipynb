{
 "cells": [
  {
   "cell_type": "code",
   "execution_count": 2,
   "metadata": {},
   "outputs": [
    {
     "name": "stderr",
     "output_type": "stream",
     "text": [
      "/home/gustavo/workstation/depth_estimation/codes/rgbd-yolov2/.venv/lib/python3.10/site-packages/tqdm/auto.py:21: TqdmWarning: IProgress not found. Please update jupyter and ipywidgets. See https://ipywidgets.readthedocs.io/en/stable/user_install.html\n",
      "  from .autonotebook import tqdm as notebook_tqdm\n"
     ]
    }
   ],
   "source": [
    "import torch\n",
    "from torch import nn\n",
    "import lightnet as ln\n",
    "from torchinfo import summary\n",
    "from model import model_builder\n",
    "import functools"
   ]
  },
  {
   "cell_type": "code",
   "execution_count": 3,
   "metadata": {},
   "outputs": [],
   "source": [
    "# model = ln.models.Darknet19(1000)\n",
    "# model.load('weights/darknet19_448.weights')\n",
    "\n",
    "# # Save as PyTorch weight file (Not strictly necessary, but it is faster than darknet weight files)\n",
    "# model.save('weights/darknet19_448.pt')\n",
    "\n",
    "# # Converting Darknet19 weights to Yolo (This is the same as the darknet19_448.conv.23.weights from darknet)\n",
    "# model.save('weights/yolo-pretrained_darknet.pt', remap=ln.models.YoloV2.remap_darknet19)\n",
    "\n",
    "# # Load yolo weights (Requires `strict=False`, because not all layers have weights in this file)\n",
    "# detection_model = ln.models.YoloV2(3)\n",
    "# detection_model.load('weights/yolo-pretrained_darknet.pt', strict=False)"
   ]
  },
  {
   "cell_type": "markdown",
   "metadata": {},
   "source": [
    "## Depth Only Network"
   ]
  },
  {
   "cell_type": "code",
   "execution_count": 3,
   "metadata": {},
   "outputs": [
    {
     "name": "stderr",
     "output_type": "stream",
     "text": [
      "/home/gustavo/workstation/depth_estimation/codes/rgbd-yolov2/.venv/lib/python3.10/site-packages/lightnet/network/module/_lightnet.py:293: FutureWarning: You are using `torch.load` with `weights_only=False` (the current default value), which uses the default pickle module implicitly. It is possible to construct malicious pickle data which will execute arbitrary code during unpickling (See https://github.com/pytorch/pytorch/blob/main/SECURITY.md#untrusted-models for more details). In a future release, the default value for `weights_only` will be flipped to `True`. This limits the functions that could be executed during unpickling. Arbitrary objects will no longer be allowed to be loaded via this mode unless they are explicitly allowlisted by the user via `torch.serialization.add_safe_globals`. We recommend you start setting `weights_only=True` for any use case where you don't have full control of the loaded file. Please open an issue on GitHub for any issues related to this experimental feature.\n",
      "  state = torch.load(weights_file, 'cpu')\n",
      "Modules not matching, performing partial update\n"
     ]
    }
   ],
   "source": [
    "yolov2 = ln.models.YoloV2(2)\n",
    "yolov2.load('weights/yolo-pretrained_darknet.pt', strict=False)\n",
    "\n",
    "\n",
    "#for i in detection_model.state_dict().keys():\n",
    "#    print(i)"
   ]
  },
  {
   "cell_type": "code",
   "execution_count": 4,
   "metadata": {},
   "outputs": [
    {
     "data": {
      "text/plain": [
       "Conv2dBatchAct(3, 32, kernel_size=(3, 3), stride=(1, 1), padding=(1, 1), LeakyReLU(negative_slope=0.1, inplace=True))"
      ]
     },
     "execution_count": 4,
     "metadata": {},
     "output_type": "execute_result"
    }
   ],
   "source": [
    "yolov2.backbone.module[0]"
   ]
  },
  {
   "cell_type": "code",
   "execution_count": 5,
   "metadata": {},
   "outputs": [
    {
     "name": "stdout",
     "output_type": "stream",
     "text": [
      "Original first layer: Conv2dBatchAct(3, 32, kernel_size=(3, 3), stride=(1, 1), padding=(1, 1), LeakyReLU(negative_slope=0.1, inplace=True))\n"
     ]
    }
   ],
   "source": [
    "print(\"Original first layer:\", yolov2.backbone.module[0])\n",
    "original_conv = yolov2.backbone.module[0]"
   ]
  },
  {
   "cell_type": "code",
   "execution_count": 6,
   "metadata": {},
   "outputs": [],
   "source": [
    "new_conv = ln.network.layer.Conv2dBatchAct(in_channels=1, \n",
    "                                           out_channels=32, \n",
    "                                           kernel_size=(3, 3), \n",
    "                                           stride=(1, 1), \n",
    "                                           padding=(1, 1), \n",
    "                                           activation=functools.partial(nn.modules.activation.LeakyReLU, negative_slope=0.1, inplace=True))"
   ]
  },
  {
   "cell_type": "code",
   "execution_count": 7,
   "metadata": {},
   "outputs": [],
   "source": [
    "yolov2.backbone.module[0] = new_conv"
   ]
  },
  {
   "cell_type": "code",
   "execution_count": 9,
   "metadata": {},
   "outputs": [],
   "source": [
    "#for i in yolov2.state_dict().keys():\n",
    "#    print(i)"
   ]
  },
  {
   "cell_type": "code",
   "execution_count": 10,
   "metadata": {},
   "outputs": [
    {
     "data": {
      "text/plain": [
       "=============================================================================================================================\n",
       "Layer (type (var_name))                       Input Shape          Output Shape         Param #              Trainable\n",
       "=============================================================================================================================\n",
       "YoloV2 (YoloV2)                               [32, 1, 416, 416]    [32, 35, 13, 13]     --                   True\n",
       "├─FeatureExtractor (backbone)                 [32, 1, 416, 416]    [32, 1024, 13, 13]   --                   True\n",
       "│    └─Sequential (module)                    [32, 1, 416, 416]    [32, 1024, 13, 13]   --                   True\n",
       "│    │    └─Conv2dBatchAct (1_convbatch)      [32, 1, 416, 416]    [32, 32, 416, 416]   352                  True\n",
       "│    │    └─MaxPool2d (2_max)                 [32, 32, 416, 416]   [32, 32, 208, 208]   --                   --\n",
       "│    │    └─Conv2dBatchAct (3_convbatch)      [32, 32, 208, 208]   [32, 64, 208, 208]   18,560               True\n",
       "│    │    └─MaxPool2d (4_max)                 [32, 64, 208, 208]   [32, 64, 104, 104]   --                   --\n",
       "│    │    └─Conv2dBatchAct (5_convbatch)      [32, 64, 104, 104]   [32, 128, 104, 104]  73,984               True\n",
       "│    │    └─Conv2dBatchAct (6_convbatch)      [32, 128, 104, 104]  [32, 64, 104, 104]   8,320                True\n",
       "│    │    └─Conv2dBatchAct (7_convbatch)      [32, 64, 104, 104]   [32, 128, 104, 104]  73,984               True\n",
       "│    │    └─MaxPool2d (8_max)                 [32, 128, 104, 104]  [32, 128, 52, 52]    --                   --\n",
       "│    │    └─Conv2dBatchAct (9_convbatch)      [32, 128, 52, 52]    [32, 256, 52, 52]    295,424              True\n",
       "│    │    └─Conv2dBatchAct (10_convbatch)     [32, 256, 52, 52]    [32, 128, 52, 52]    33,024               True\n",
       "│    │    └─Conv2dBatchAct (11_convbatch)     [32, 128, 52, 52]    [32, 256, 52, 52]    295,424              True\n",
       "│    │    └─MaxPool2d (12_max)                [32, 256, 52, 52]    [32, 256, 26, 26]    --                   --\n",
       "│    │    └─Conv2dBatchAct (13_convbatch)     [32, 256, 26, 26]    [32, 512, 26, 26]    1,180,672            True\n",
       "│    │    └─Conv2dBatchAct (14_convbatch)     [32, 512, 26, 26]    [32, 256, 26, 26]    131,584              True\n",
       "│    │    └─Conv2dBatchAct (15_convbatch)     [32, 256, 26, 26]    [32, 512, 26, 26]    1,180,672            True\n",
       "│    │    └─Conv2dBatchAct (16_convbatch)     [32, 512, 26, 26]    [32, 256, 26, 26]    131,584              True\n",
       "│    │    └─Conv2dBatchAct (17_convbatch)     [32, 256, 26, 26]    [32, 512, 26, 26]    1,180,672            True\n",
       "│    │    └─MaxPool2d (18_max)                [32, 512, 26, 26]    [32, 512, 13, 13]    --                   --\n",
       "│    │    └─Conv2dBatchAct (19_convbatch)     [32, 512, 13, 13]    [32, 1024, 13, 13]   4,720,640            True\n",
       "│    │    └─Conv2dBatchAct (20_convbatch)     [32, 1024, 13, 13]   [32, 512, 13, 13]    525,312              True\n",
       "│    │    └─Conv2dBatchAct (21_convbatch)     [32, 512, 13, 13]    [32, 1024, 13, 13]   4,720,640            True\n",
       "│    │    └─Conv2dBatchAct (22_convbatch)     [32, 1024, 13, 13]   [32, 512, 13, 13]    525,312              True\n",
       "│    │    └─Conv2dBatchAct (23_convbatch)     [32, 512, 13, 13]    [32, 1024, 13, 13]   4,720,640            True\n",
       "├─ModuleList (neck)                           --                   --                   --                   True\n",
       "│    └─Sequential (0)                         [32, 1024, 13, 13]   [32, 1024, 13, 13]   --                   True\n",
       "│    │    └─Conv2dBatchAct (0)                [32, 1024, 13, 13]   [32, 1024, 13, 13]   9,439,232            True\n",
       "│    │    └─Conv2dBatchAct (1)                [32, 1024, 13, 13]   [32, 1024, 13, 13]   9,439,232            True\n",
       "│    └─Sequential (1)                         [32, 512, 26, 26]    [32, 256, 13, 13]    --                   True\n",
       "│    │    └─Conv2dBatchAct (0)                [32, 512, 26, 26]    [32, 64, 26, 26]     32,896               True\n",
       "│    │    └─Reorg (1)                         [32, 64, 26, 26]     [32, 256, 13, 13]    --                   --\n",
       "├─Sequential (head)                           [32, 1280, 13, 13]   [32, 35, 13, 13]     --                   True\n",
       "│    └─Conv2dBatchAct (0)                     [32, 1280, 13, 13]   [32, 1024, 13, 13]   --                   True\n",
       "│    │    └─ModuleList (layers)               --                   --                   11,798,528           True\n",
       "│    └─Conv2d (1)                             [32, 1024, 13, 13]   [32, 35, 13, 13]     35,875               True\n",
       "=============================================================================================================================\n",
       "Total params: 50,562,563\n",
       "Trainable params: 50,562,563\n",
       "Non-trainable params: 0\n",
       "Total mult-adds (G): 466.08\n",
       "=============================================================================================================================\n",
       "Input size (MB): 22.15\n",
       "Forward/backward pass size (MB): 8263.90\n",
       "Params size (MB): 202.25\n",
       "Estimated Total Size (MB): 8488.30\n",
       "============================================================================================================================="
      ]
     },
     "execution_count": 10,
     "metadata": {},
     "output_type": "execute_result"
    }
   ],
   "source": [
    "# Print a summary using torchinfo (uncomment for actual output)\n",
    "summary(model=yolov2, \n",
    "        input_size=(32, 1, 416, 416), # make sure this is \"input_size\", not \"input_shape\"\n",
    "        # col_names=[\"input_size\"], # uncomment for smaller output\n",
    "        col_names=[\"input_size\", \"output_size\", \"num_params\", \"trainable\"],\n",
    "        col_width=20,\n",
    "        row_settings=[\"var_names\"]\n",
    ") "
   ]
  },
  {
   "cell_type": "code",
   "execution_count": null,
   "metadata": {},
   "outputs": [],
   "source": []
  },
  {
   "cell_type": "code",
   "execution_count": 20,
   "metadata": {},
   "outputs": [
    {
     "name": "stdout",
     "output_type": "stream",
     "text": [
      "layers.0.1_convbatch_regular.layers.0.weight\n",
      "layers.0.1_convbatch_regular.layers.1.weight\n",
      "layers.0.1_convbatch_regular.layers.1.bias\n",
      "layers.0.1_convbatch_regular.layers.1.running_mean\n",
      "layers.0.1_convbatch_regular.layers.1.running_var\n",
      "layers.0.1_convbatch_regular.layers.1.num_batches_tracked\n",
      "layers.0.1_convbatch_fusion.layers.0.weight\n",
      "layers.0.1_convbatch_fusion.layers.1.weight\n",
      "layers.0.1_convbatch_fusion.layers.1.bias\n",
      "layers.0.1_convbatch_fusion.layers.1.running_mean\n",
      "layers.0.1_convbatch_fusion.layers.1.running_var\n",
      "layers.0.1_convbatch_fusion.layers.1.num_batches_tracked\n",
      "layers.1.regular.3_convbatch.layers.0.weight\n",
      "layers.1.regular.3_convbatch.layers.1.weight\n",
      "layers.1.regular.3_convbatch.layers.1.bias\n",
      "layers.1.regular.3_convbatch.layers.1.running_mean\n",
      "layers.1.regular.3_convbatch.layers.1.running_var\n",
      "layers.1.regular.3_convbatch.layers.1.num_batches_tracked\n",
      "layers.1.regular.5_convbatch.layers.0.weight\n",
      "layers.1.regular.5_convbatch.layers.1.weight\n",
      "layers.1.regular.5_convbatch.layers.1.bias\n",
      "layers.1.regular.5_convbatch.layers.1.running_mean\n",
      "layers.1.regular.5_convbatch.layers.1.running_var\n",
      "layers.1.regular.5_convbatch.layers.1.num_batches_tracked\n",
      "layers.1.regular.6_convbatch.layers.0.weight\n",
      "layers.1.regular.6_convbatch.layers.1.weight\n",
      "layers.1.regular.6_convbatch.layers.1.bias\n",
      "layers.1.regular.6_convbatch.layers.1.running_mean\n",
      "layers.1.regular.6_convbatch.layers.1.running_var\n",
      "layers.1.regular.6_convbatch.layers.1.num_batches_tracked\n",
      "layers.1.regular.7_convbatch.layers.0.weight\n",
      "layers.1.regular.7_convbatch.layers.1.weight\n",
      "layers.1.regular.7_convbatch.layers.1.bias\n",
      "layers.1.regular.7_convbatch.layers.1.running_mean\n",
      "layers.1.regular.7_convbatch.layers.1.running_var\n",
      "layers.1.regular.7_convbatch.layers.1.num_batches_tracked\n",
      "layers.1.regular.9_convbatch.layers.0.weight\n",
      "layers.1.regular.9_convbatch.layers.1.weight\n",
      "layers.1.regular.9_convbatch.layers.1.bias\n",
      "layers.1.regular.9_convbatch.layers.1.running_mean\n",
      "layers.1.regular.9_convbatch.layers.1.running_var\n",
      "layers.1.regular.9_convbatch.layers.1.num_batches_tracked\n",
      "layers.1.regular.10_convbatch.layers.0.weight\n",
      "layers.1.regular.10_convbatch.layers.1.weight\n",
      "layers.1.regular.10_convbatch.layers.1.bias\n",
      "layers.1.regular.10_convbatch.layers.1.running_mean\n",
      "layers.1.regular.10_convbatch.layers.1.running_var\n",
      "layers.1.regular.10_convbatch.layers.1.num_batches_tracked\n",
      "layers.1.regular.11_convbatch.layers.0.weight\n",
      "layers.1.regular.11_convbatch.layers.1.weight\n",
      "layers.1.regular.11_convbatch.layers.1.bias\n",
      "layers.1.regular.11_convbatch.layers.1.running_mean\n",
      "layers.1.regular.11_convbatch.layers.1.running_var\n",
      "layers.1.regular.11_convbatch.layers.1.num_batches_tracked\n",
      "layers.1.regular.13_convbatch.layers.0.weight\n",
      "layers.1.regular.13_convbatch.layers.1.weight\n",
      "layers.1.regular.13_convbatch.layers.1.bias\n",
      "layers.1.regular.13_convbatch.layers.1.running_mean\n",
      "layers.1.regular.13_convbatch.layers.1.running_var\n",
      "layers.1.regular.13_convbatch.layers.1.num_batches_tracked\n",
      "layers.1.regular.14_convbatch.layers.0.weight\n",
      "layers.1.regular.14_convbatch.layers.1.weight\n",
      "layers.1.regular.14_convbatch.layers.1.bias\n",
      "layers.1.regular.14_convbatch.layers.1.running_mean\n",
      "layers.1.regular.14_convbatch.layers.1.running_var\n",
      "layers.1.regular.14_convbatch.layers.1.num_batches_tracked\n",
      "layers.1.regular.15_convbatch.layers.0.weight\n",
      "layers.1.regular.15_convbatch.layers.1.weight\n",
      "layers.1.regular.15_convbatch.layers.1.bias\n",
      "layers.1.regular.15_convbatch.layers.1.running_mean\n",
      "layers.1.regular.15_convbatch.layers.1.running_var\n",
      "layers.1.regular.15_convbatch.layers.1.num_batches_tracked\n",
      "layers.1.regular.16_convbatch.layers.0.weight\n",
      "layers.1.regular.16_convbatch.layers.1.weight\n",
      "layers.1.regular.16_convbatch.layers.1.bias\n",
      "layers.1.regular.16_convbatch.layers.1.running_mean\n",
      "layers.1.regular.16_convbatch.layers.1.running_var\n",
      "layers.1.regular.16_convbatch.layers.1.num_batches_tracked\n",
      "layers.1.fusion.3_convbatch.layers.0.weight\n",
      "layers.1.fusion.3_convbatch.layers.1.weight\n",
      "layers.1.fusion.3_convbatch.layers.1.bias\n",
      "layers.1.fusion.3_convbatch.layers.1.running_mean\n",
      "layers.1.fusion.3_convbatch.layers.1.running_var\n",
      "layers.1.fusion.3_convbatch.layers.1.num_batches_tracked\n",
      "layers.1.fusion.5_convbatch.layers.0.weight\n",
      "layers.1.fusion.5_convbatch.layers.1.weight\n",
      "layers.1.fusion.5_convbatch.layers.1.bias\n",
      "layers.1.fusion.5_convbatch.layers.1.running_mean\n",
      "layers.1.fusion.5_convbatch.layers.1.running_var\n",
      "layers.1.fusion.5_convbatch.layers.1.num_batches_tracked\n",
      "layers.1.fusion.6_convbatch.layers.0.weight\n",
      "layers.1.fusion.6_convbatch.layers.1.weight\n",
      "layers.1.fusion.6_convbatch.layers.1.bias\n",
      "layers.1.fusion.6_convbatch.layers.1.running_mean\n",
      "layers.1.fusion.6_convbatch.layers.1.running_var\n",
      "layers.1.fusion.6_convbatch.layers.1.num_batches_tracked\n",
      "layers.1.fusion.7_convbatch.layers.0.weight\n",
      "layers.1.fusion.7_convbatch.layers.1.weight\n",
      "layers.1.fusion.7_convbatch.layers.1.bias\n",
      "layers.1.fusion.7_convbatch.layers.1.running_mean\n",
      "layers.1.fusion.7_convbatch.layers.1.running_var\n",
      "layers.1.fusion.7_convbatch.layers.1.num_batches_tracked\n",
      "layers.1.fusion.9_convbatch.layers.0.weight\n",
      "layers.1.fusion.9_convbatch.layers.1.weight\n",
      "layers.1.fusion.9_convbatch.layers.1.bias\n",
      "layers.1.fusion.9_convbatch.layers.1.running_mean\n",
      "layers.1.fusion.9_convbatch.layers.1.running_var\n",
      "layers.1.fusion.9_convbatch.layers.1.num_batches_tracked\n",
      "layers.1.fusion.10_convbatch.layers.0.weight\n",
      "layers.1.fusion.10_convbatch.layers.1.weight\n",
      "layers.1.fusion.10_convbatch.layers.1.bias\n",
      "layers.1.fusion.10_convbatch.layers.1.running_mean\n",
      "layers.1.fusion.10_convbatch.layers.1.running_var\n",
      "layers.1.fusion.10_convbatch.layers.1.num_batches_tracked\n",
      "layers.1.fusion.11_convbatch.layers.0.weight\n",
      "layers.1.fusion.11_convbatch.layers.1.weight\n",
      "layers.1.fusion.11_convbatch.layers.1.bias\n",
      "layers.1.fusion.11_convbatch.layers.1.running_mean\n",
      "layers.1.fusion.11_convbatch.layers.1.running_var\n",
      "layers.1.fusion.11_convbatch.layers.1.num_batches_tracked\n",
      "layers.1.fusion.13_convbatch.layers.0.weight\n",
      "layers.1.fusion.13_convbatch.layers.1.weight\n",
      "layers.1.fusion.13_convbatch.layers.1.bias\n",
      "layers.1.fusion.13_convbatch.layers.1.running_mean\n",
      "layers.1.fusion.13_convbatch.layers.1.running_var\n",
      "layers.1.fusion.13_convbatch.layers.1.num_batches_tracked\n",
      "layers.1.fusion.14_convbatch.layers.0.weight\n",
      "layers.1.fusion.14_convbatch.layers.1.weight\n",
      "layers.1.fusion.14_convbatch.layers.1.bias\n",
      "layers.1.fusion.14_convbatch.layers.1.running_mean\n",
      "layers.1.fusion.14_convbatch.layers.1.running_var\n",
      "layers.1.fusion.14_convbatch.layers.1.num_batches_tracked\n",
      "layers.1.fusion.15_convbatch.layers.0.weight\n",
      "layers.1.fusion.15_convbatch.layers.1.weight\n",
      "layers.1.fusion.15_convbatch.layers.1.bias\n",
      "layers.1.fusion.15_convbatch.layers.1.running_mean\n",
      "layers.1.fusion.15_convbatch.layers.1.running_var\n",
      "layers.1.fusion.15_convbatch.layers.1.num_batches_tracked\n",
      "layers.1.fusion.16_convbatch.layers.0.weight\n",
      "layers.1.fusion.16_convbatch.layers.1.weight\n",
      "layers.1.fusion.16_convbatch.layers.1.bias\n",
      "layers.1.fusion.16_convbatch.layers.1.running_mean\n",
      "layers.1.fusion.16_convbatch.layers.1.running_var\n",
      "layers.1.fusion.16_convbatch.layers.1.num_batches_tracked\n",
      "layers.1.combined.17_convbatch.layers.0.weight\n",
      "layers.1.combined.17_convbatch.layers.1.weight\n",
      "layers.1.combined.17_convbatch.layers.1.bias\n",
      "layers.1.combined.17_convbatch.layers.1.running_mean\n",
      "layers.1.combined.17_convbatch.layers.1.running_var\n",
      "layers.1.combined.17_convbatch.layers.1.num_batches_tracked\n",
      "layers.1.fuse.weight\n",
      "layers.2.combined.19_convbatch.layers.0.weight\n",
      "layers.2.combined.19_convbatch.layers.1.weight\n",
      "layers.2.combined.19_convbatch.layers.1.bias\n",
      "layers.2.combined.19_convbatch.layers.1.running_mean\n",
      "layers.2.combined.19_convbatch.layers.1.running_var\n",
      "layers.2.combined.19_convbatch.layers.1.num_batches_tracked\n",
      "layers.2.combined.20_convbatch.layers.0.weight\n",
      "layers.2.combined.20_convbatch.layers.1.weight\n",
      "layers.2.combined.20_convbatch.layers.1.bias\n",
      "layers.2.combined.20_convbatch.layers.1.running_mean\n",
      "layers.2.combined.20_convbatch.layers.1.running_var\n",
      "layers.2.combined.20_convbatch.layers.1.num_batches_tracked\n",
      "layers.2.combined.21_convbatch.layers.0.weight\n",
      "layers.2.combined.21_convbatch.layers.1.weight\n",
      "layers.2.combined.21_convbatch.layers.1.bias\n",
      "layers.2.combined.21_convbatch.layers.1.running_mean\n",
      "layers.2.combined.21_convbatch.layers.1.running_var\n",
      "layers.2.combined.21_convbatch.layers.1.num_batches_tracked\n",
      "layers.2.combined.22_convbatch.layers.0.weight\n",
      "layers.2.combined.22_convbatch.layers.1.weight\n",
      "layers.2.combined.22_convbatch.layers.1.bias\n",
      "layers.2.combined.22_convbatch.layers.1.running_mean\n",
      "layers.2.combined.22_convbatch.layers.1.running_var\n",
      "layers.2.combined.22_convbatch.layers.1.num_batches_tracked\n",
      "layers.2.combined.23_convbatch.layers.0.weight\n",
      "layers.2.combined.23_convbatch.layers.1.weight\n",
      "layers.2.combined.23_convbatch.layers.1.bias\n",
      "layers.2.combined.23_convbatch.layers.1.running_mean\n",
      "layers.2.combined.23_convbatch.layers.1.running_var\n",
      "layers.2.combined.23_convbatch.layers.1.num_batches_tracked\n",
      "layers.2.combined.24_convbatch.layers.0.weight\n",
      "layers.2.combined.24_convbatch.layers.1.weight\n",
      "layers.2.combined.24_convbatch.layers.1.bias\n",
      "layers.2.combined.24_convbatch.layers.1.running_mean\n",
      "layers.2.combined.24_convbatch.layers.1.running_var\n",
      "layers.2.combined.24_convbatch.layers.1.num_batches_tracked\n",
      "layers.2.combined.25_convbatch.layers.0.weight\n",
      "layers.2.combined.25_convbatch.layers.1.weight\n",
      "layers.2.combined.25_convbatch.layers.1.bias\n",
      "layers.2.combined.25_convbatch.layers.1.running_mean\n",
      "layers.2.combined.25_convbatch.layers.1.running_var\n",
      "layers.2.combined.25_convbatch.layers.1.num_batches_tracked\n",
      "layers.3.combined.26_convbatch.layers.0.weight\n",
      "layers.3.combined.26_convbatch.layers.1.weight\n",
      "layers.3.combined.26_convbatch.layers.1.bias\n",
      "layers.3.combined.26_convbatch.layers.1.running_mean\n",
      "layers.3.combined.26_convbatch.layers.1.running_var\n",
      "layers.3.combined.26_convbatch.layers.1.num_batches_tracked\n",
      "layers.3.combined.27_conv.weight\n",
      "layers.3.combined.27_conv.bias\n",
      "layers.4.P1_convbatch.layers.0.weight\n",
      "layers.4.P1_convbatch.layers.1.weight\n",
      "layers.4.P1_convbatch.layers.1.bias\n",
      "layers.4.P1_convbatch.layers.1.running_mean\n",
      "layers.4.P1_convbatch.layers.1.running_var\n",
      "layers.4.P1_convbatch.layers.1.num_batches_tracked\n",
      "_LN_MODEL_VERSION\n"
     ]
    }
   ],
   "source": [
    "model_fusion = ln.models.YoloFusion(3, fuse_layer=16)\n",
    "\n",
    "for i in model_fusion.state_dict().keys():\n",
    "    print(i)"
   ]
  },
  {
   "cell_type": "code",
   "execution_count": 21,
   "metadata": {},
   "outputs": [
    {
     "data": {
      "text/plain": [
       "YoloFusion(\n",
       "  (layers): ModuleList(\n",
       "    (0): ModuleDict(\n",
       "      (1_convbatch_regular): Conv2dBatchAct(3, 32, kernel_size=(3, 3), stride=(1, 1), padding=(1, 1), LeakyReLU(negative_slope=0.1, inplace=True))\n",
       "      (1_convbatch_fusion): Conv2dBatchAct(1, 32, kernel_size=(3, 3), stride=(1, 1), padding=(1, 1), LeakyReLU(negative_slope=0.1, inplace=True))\n",
       "    )\n",
       "    (1): FusionSequential(\n",
       "      (Regular & Fusion): Sequential(\n",
       "        (2_max): MaxPool2d(kernel_size=2, stride=2, padding=0, dilation=1, ceil_mode=False)\n",
       "        (3_convbatch): Conv2dBatchAct(32, 64, kernel_size=(3, 3), stride=(1, 1), padding=(1, 1), LeakyReLU(negative_slope=0.1, inplace=True))\n",
       "        (4_max): MaxPool2d(kernel_size=2, stride=2, padding=0, dilation=1, ceil_mode=False)\n",
       "        (5_convbatch): Conv2dBatchAct(64, 128, kernel_size=(3, 3), stride=(1, 1), padding=(1, 1), LeakyReLU(negative_slope=0.1, inplace=True))\n",
       "        (6_convbatch): Conv2dBatchAct(128, 64, kernel_size=(1, 1), stride=(1, 1), padding=(0, 0), LeakyReLU(negative_slope=0.1, inplace=True))\n",
       "        (7_convbatch): Conv2dBatchAct(64, 128, kernel_size=(3, 3), stride=(1, 1), padding=(1, 1), LeakyReLU(negative_slope=0.1, inplace=True))\n",
       "        (8_max): MaxPool2d(kernel_size=2, stride=2, padding=0, dilation=1, ceil_mode=False)\n",
       "        (9_convbatch): Conv2dBatchAct(128, 256, kernel_size=(3, 3), stride=(1, 1), padding=(1, 1), LeakyReLU(negative_slope=0.1, inplace=True))\n",
       "        (10_convbatch): Conv2dBatchAct(256, 128, kernel_size=(1, 1), stride=(1, 1), padding=(0, 0), LeakyReLU(negative_slope=0.1, inplace=True))\n",
       "        (11_convbatch): Conv2dBatchAct(128, 256, kernel_size=(3, 3), stride=(1, 1), padding=(1, 1), LeakyReLU(negative_slope=0.1, inplace=True))\n",
       "        (12_max): MaxPool2d(kernel_size=2, stride=2, padding=0, dilation=1, ceil_mode=False)\n",
       "        (13_convbatch): Conv2dBatchAct(256, 512, kernel_size=(3, 3), stride=(1, 1), padding=(1, 1), LeakyReLU(negative_slope=0.1, inplace=True))\n",
       "        (14_convbatch): Conv2dBatchAct(512, 256, kernel_size=(1, 1), stride=(1, 1), padding=(0, 0), LeakyReLU(negative_slope=0.1, inplace=True))\n",
       "        (15_convbatch): Conv2dBatchAct(256, 512, kernel_size=(3, 3), stride=(1, 1), padding=(1, 1), LeakyReLU(negative_slope=0.1, inplace=True))\n",
       "        (16_convbatch): Conv2dBatchAct(512, 256, kernel_size=(1, 1), stride=(1, 1), padding=(0, 0), LeakyReLU(negative_slope=0.1, inplace=True))\n",
       "      )\n",
       "      (Fuse): Conv2d(512, 256, kernel_size=(1, 1), stride=(1, 1), bias=False)\n",
       "      (Combined): Sequential(\n",
       "        (17_convbatch): Conv2dBatchAct(256, 512, kernel_size=(3, 3), stride=(1, 1), padding=(1, 1), LeakyReLU(negative_slope=0.1, inplace=True))\n",
       "      )\n",
       "    )\n",
       "    (2): FusionSequential(\n",
       "      (Combined): Sequential(\n",
       "        (18_max): MaxPool2d(kernel_size=2, stride=2, padding=0, dilation=1, ceil_mode=False)\n",
       "        (19_convbatch): Conv2dBatchAct(512, 1024, kernel_size=(3, 3), stride=(1, 1), padding=(1, 1), LeakyReLU(negative_slope=0.1, inplace=True))\n",
       "        (20_convbatch): Conv2dBatchAct(1024, 512, kernel_size=(1, 1), stride=(1, 1), padding=(0, 0), LeakyReLU(negative_slope=0.1, inplace=True))\n",
       "        (21_convbatch): Conv2dBatchAct(512, 1024, kernel_size=(3, 3), stride=(1, 1), padding=(1, 1), LeakyReLU(negative_slope=0.1, inplace=True))\n",
       "        (22_convbatch): Conv2dBatchAct(1024, 512, kernel_size=(1, 1), stride=(1, 1), padding=(0, 0), LeakyReLU(negative_slope=0.1, inplace=True))\n",
       "        (23_convbatch): Conv2dBatchAct(512, 1024, kernel_size=(3, 3), stride=(1, 1), padding=(1, 1), LeakyReLU(negative_slope=0.1, inplace=True))\n",
       "        (24_convbatch): Conv2dBatchAct(1024, 1024, kernel_size=(3, 3), stride=(1, 1), padding=(1, 1), LeakyReLU(negative_slope=0.1, inplace=True))\n",
       "        (25_convbatch): Conv2dBatchAct(1024, 1024, kernel_size=(3, 3), stride=(1, 1), padding=(1, 1), LeakyReLU(negative_slope=0.1, inplace=True))\n",
       "      )\n",
       "    )\n",
       "    (3): FusionSequential(\n",
       "      (Combined): Sequential(\n",
       "        (26_convbatch): Conv2dBatchAct(1280, 1024, kernel_size=(3, 3), stride=(1, 1), padding=(1, 1), LeakyReLU(negative_slope=0.1, inplace=True))\n",
       "        (27_conv): Conv2d(1024, 40, kernel_size=(1, 1), stride=(1, 1))\n",
       "      )\n",
       "    )\n",
       "    (4): Sequential(\n",
       "      (P1_convbatch): Conv2dBatchAct(512, 64, kernel_size=(1, 1), stride=(1, 1), padding=(0, 0), LeakyReLU(negative_slope=0.1, inplace=True))\n",
       "      (P2_reorg): Reorg(stride=2)\n",
       "    )\n",
       "  )\n",
       ")"
      ]
     },
     "execution_count": 21,
     "metadata": {},
     "output_type": "execute_result"
    }
   ],
   "source": [
    "model_fusion"
   ]
  },
  {
   "cell_type": "code",
   "execution_count": null,
   "metadata": {},
   "outputs": [],
   "source": []
  }
 ],
 "metadata": {
  "kernelspec": {
   "display_name": ".venv",
   "language": "python",
   "name": "python3"
  },
  "language_info": {
   "codemirror_mode": {
    "name": "ipython",
    "version": 3
   },
   "file_extension": ".py",
   "mimetype": "text/x-python",
   "name": "python",
   "nbconvert_exporter": "python",
   "pygments_lexer": "ipython3",
   "version": "3.10.12"
  }
 },
 "nbformat": 4,
 "nbformat_minor": 2
}
