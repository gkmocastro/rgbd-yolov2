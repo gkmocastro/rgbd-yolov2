{
 "cells": [
  {
   "cell_type": "code",
   "execution_count": 1,
   "metadata": {},
   "outputs": [
    {
     "name": "stderr",
     "output_type": "stream",
     "text": [
      "/home/gustavo/workstation/depth_estimation/codes/rgbd-yolov2/.venv/lib/python3.10/site-packages/tqdm/auto.py:21: TqdmWarning: IProgress not found. Please update jupyter and ipywidgets. See https://ipywidgets.readthedocs.io/en/stable/user_install.html\n",
      "  from .autonotebook import tqdm as notebook_tqdm\n"
     ]
    }
   ],
   "source": [
    "import torch\n",
    "from torch import nn\n",
    "import lightnet as ln\n",
    "from torchinfo import summary\n",
    "from model import model_builder\n",
    "import functools"
   ]
  },
  {
   "cell_type": "code",
   "execution_count": 3,
   "metadata": {},
   "outputs": [],
   "source": [
    "# model = ln.models.Darknet19(1000)\n",
    "# model.load('weights/darknet19_448.weights')\n",
    "\n",
    "# # Save as PyTorch weight file (Not strictly necessary, but it is faster than darknet weight files)\n",
    "# model.save('weights/darknet19_448.pt')\n",
    "\n",
    "# # Converting Darknet19 weights to Yolo (This is the same as the darknet19_448.conv.23.weights from darknet)\n",
    "# model.save('weights/yolo-pretrained_darknet.pt', remap=ln.models.YoloV2.remap_darknet19)\n",
    "\n",
    "# # Load yolo weights (Requires `strict=False`, because not all layers have weights in this file)\n",
    "# detection_model = ln.models.YoloV2(3)\n",
    "# detection_model.load('weights/yolo-pretrained_darknet.pt', strict=False)"
   ]
  },
  {
   "cell_type": "markdown",
   "metadata": {},
   "source": [
    "## Depth Only Network"
   ]
  },
  {
   "cell_type": "code",
   "execution_count": 7,
   "metadata": {},
   "outputs": [
    {
     "name": "stderr",
     "output_type": "stream",
     "text": [
      "Modules not matching, performing partial update\n"
     ]
    },
    {
     "data": {
      "text/plain": [
       "=============================================================================================================================\n",
       "Layer (type (var_name))                       Input Shape          Output Shape         Param #              Trainable\n",
       "=============================================================================================================================\n",
       "YoloV2 (YoloV2)                               [32, 3, 416, 416]    [32, 40, 13, 13]     --                   True\n",
       "├─FeatureExtractor (backbone)                 [32, 3, 416, 416]    [32, 1024, 13, 13]   --                   True\n",
       "│    └─Sequential (module)                    [32, 3, 416, 416]    [32, 1024, 13, 13]   --                   True\n",
       "│    │    └─Conv2dBatchAct (1_convbatch)      [32, 3, 416, 416]    [32, 32, 416, 416]   928                  True\n",
       "│    │    └─MaxPool2d (2_max)                 [32, 32, 416, 416]   [32, 32, 208, 208]   --                   --\n",
       "│    │    └─Conv2dBatchAct (3_convbatch)      [32, 32, 208, 208]   [32, 64, 208, 208]   18,560               True\n",
       "│    │    └─MaxPool2d (4_max)                 [32, 64, 208, 208]   [32, 64, 104, 104]   --                   --\n",
       "│    │    └─Conv2dBatchAct (5_convbatch)      [32, 64, 104, 104]   [32, 128, 104, 104]  73,984               True\n",
       "│    │    └─Conv2dBatchAct (6_convbatch)      [32, 128, 104, 104]  [32, 64, 104, 104]   8,320                True\n",
       "│    │    └─Conv2dBatchAct (7_convbatch)      [32, 64, 104, 104]   [32, 128, 104, 104]  73,984               True\n",
       "│    │    └─MaxPool2d (8_max)                 [32, 128, 104, 104]  [32, 128, 52, 52]    --                   --\n",
       "│    │    └─Conv2dBatchAct (9_convbatch)      [32, 128, 52, 52]    [32, 256, 52, 52]    295,424              True\n",
       "│    │    └─Conv2dBatchAct (10_convbatch)     [32, 256, 52, 52]    [32, 128, 52, 52]    33,024               True\n",
       "│    │    └─Conv2dBatchAct (11_convbatch)     [32, 128, 52, 52]    [32, 256, 52, 52]    295,424              True\n",
       "│    │    └─MaxPool2d (12_max)                [32, 256, 52, 52]    [32, 256, 26, 26]    --                   --\n",
       "│    │    └─Conv2dBatchAct (13_convbatch)     [32, 256, 26, 26]    [32, 512, 26, 26]    1,180,672            True\n",
       "│    │    └─Conv2dBatchAct (14_convbatch)     [32, 512, 26, 26]    [32, 256, 26, 26]    131,584              True\n",
       "│    │    └─Conv2dBatchAct (15_convbatch)     [32, 256, 26, 26]    [32, 512, 26, 26]    1,180,672            True\n",
       "│    │    └─Conv2dBatchAct (16_convbatch)     [32, 512, 26, 26]    [32, 256, 26, 26]    131,584              True\n",
       "│    │    └─Conv2dBatchAct (17_convbatch)     [32, 256, 26, 26]    [32, 512, 26, 26]    1,180,672            True\n",
       "│    │    └─MaxPool2d (18_max)                [32, 512, 26, 26]    [32, 512, 13, 13]    --                   --\n",
       "│    │    └─Conv2dBatchAct (19_convbatch)     [32, 512, 13, 13]    [32, 1024, 13, 13]   4,720,640            True\n",
       "│    │    └─Conv2dBatchAct (20_convbatch)     [32, 1024, 13, 13]   [32, 512, 13, 13]    525,312              True\n",
       "│    │    └─Conv2dBatchAct (21_convbatch)     [32, 512, 13, 13]    [32, 1024, 13, 13]   4,720,640            True\n",
       "│    │    └─Conv2dBatchAct (22_convbatch)     [32, 1024, 13, 13]   [32, 512, 13, 13]    525,312              True\n",
       "│    │    └─Conv2dBatchAct (23_convbatch)     [32, 512, 13, 13]    [32, 1024, 13, 13]   4,720,640            True\n",
       "├─ModuleList (neck)                           --                   --                   --                   True\n",
       "│    └─Sequential (0)                         [32, 1024, 13, 13]   [32, 1024, 13, 13]   --                   True\n",
       "│    │    └─Conv2dBatchAct (0)                [32, 1024, 13, 13]   [32, 1024, 13, 13]   9,439,232            True\n",
       "│    │    └─Conv2dBatchAct (1)                [32, 1024, 13, 13]   [32, 1024, 13, 13]   9,439,232            True\n",
       "│    └─Sequential (1)                         [32, 512, 26, 26]    [32, 256, 13, 13]    --                   True\n",
       "│    │    └─Conv2dBatchAct (0)                [32, 512, 26, 26]    [32, 64, 26, 26]     32,896               True\n",
       "│    │    └─Reorg (1)                         [32, 64, 26, 26]     [32, 256, 13, 13]    --                   --\n",
       "├─Sequential (head)                           [32, 1280, 13, 13]   [32, 40, 13, 13]     --                   True\n",
       "│    └─Conv2dBatchAct (0)                     [32, 1280, 13, 13]   [32, 1024, 13, 13]   --                   True\n",
       "│    │    └─ModuleList (layers)               --                   --                   11,798,528           True\n",
       "│    └─Conv2d (1)                             [32, 1024, 13, 13]   [32, 40, 13, 13]     41,000               True\n",
       "=============================================================================================================================\n",
       "Total params: 50,568,264\n",
       "Trainable params: 50,568,264\n",
       "Non-trainable params: 0\n",
       "Total mult-adds (G): 469.30\n",
       "=============================================================================================================================\n",
       "Input size (MB): 66.45\n",
       "Forward/backward pass size (MB): 8264.12\n",
       "Params size (MB): 202.27\n",
       "Estimated Total Size (MB): 8532.84\n",
       "============================================================================================================================="
      ]
     },
     "execution_count": 7,
     "metadata": {},
     "output_type": "execute_result"
    }
   ],
   "source": [
    "rgb_model = model_builder(num_classes=3, model_type=\"rgb\")\n",
    "summary(model=rgb_model, \n",
    "        input_size=(32, 3, 416, 416), # make sure this is \"input_size\", not \"input_shape\"\n",
    "        # col_names=[\"input_size\"], # uncomment for smaller output\n",
    "        col_names=[\"input_size\", \"output_size\", \"num_params\", \"trainable\"],\n",
    "        col_width=20,\n",
    "        row_settings=[\"var_names\"])"
   ]
  },
  {
   "cell_type": "code",
   "execution_count": 5,
   "metadata": {},
   "outputs": [
    {
     "name": "stderr",
     "output_type": "stream",
     "text": [
      "/home/gustavo/workstation/depth_estimation/codes/rgbd-yolov2/.venv/lib/python3.10/site-packages/lightnet/network/module/_lightnet.py:293: FutureWarning: You are using `torch.load` with `weights_only=False` (the current default value), which uses the default pickle module implicitly. It is possible to construct malicious pickle data which will execute arbitrary code during unpickling (See https://github.com/pytorch/pytorch/blob/main/SECURITY.md#untrusted-models for more details). In a future release, the default value for `weights_only` will be flipped to `True`. This limits the functions that could be executed during unpickling. Arbitrary objects will no longer be allowed to be loaded via this mode unless they are explicitly allowlisted by the user via `torch.serialization.add_safe_globals`. We recommend you start setting `weights_only=True` for any use case where you don't have full control of the loaded file. Please open an issue on GitHub for any issues related to this experimental feature.\n",
      "  state = torch.load(weights_file, 'cpu')\n",
      "Modules not matching, performing partial update\n"
     ]
    },
    {
     "name": "stdout",
     "output_type": "stream",
     "text": [
      "Replacing first layer with new conv: Conv2dBatchAct(1, 32, kernel_size=(3, 3), stride=(1, 1), padding=(1, 1), LeakyReLU(negative_slope=0.1, inplace=True))\n"
     ]
    },
    {
     "data": {
      "text/plain": [
       "=============================================================================================================================\n",
       "Layer (type (var_name))                       Input Shape          Output Shape         Param #              Trainable\n",
       "=============================================================================================================================\n",
       "YoloV2 (YoloV2)                               [32, 1, 416, 416]    [32, 40, 13, 13]     --                   True\n",
       "├─FeatureExtractor (backbone)                 [32, 1, 416, 416]    [32, 1024, 13, 13]   --                   True\n",
       "│    └─Sequential (module)                    [32, 1, 416, 416]    [32, 1024, 13, 13]   --                   True\n",
       "│    │    └─Conv2dBatchAct (1_convbatch)      [32, 1, 416, 416]    [32, 32, 416, 416]   352                  True\n",
       "│    │    └─MaxPool2d (2_max)                 [32, 32, 416, 416]   [32, 32, 208, 208]   --                   --\n",
       "│    │    └─Conv2dBatchAct (3_convbatch)      [32, 32, 208, 208]   [32, 64, 208, 208]   18,560               True\n",
       "│    │    └─MaxPool2d (4_max)                 [32, 64, 208, 208]   [32, 64, 104, 104]   --                   --\n",
       "│    │    └─Conv2dBatchAct (5_convbatch)      [32, 64, 104, 104]   [32, 128, 104, 104]  73,984               True\n",
       "│    │    └─Conv2dBatchAct (6_convbatch)      [32, 128, 104, 104]  [32, 64, 104, 104]   8,320                True\n",
       "│    │    └─Conv2dBatchAct (7_convbatch)      [32, 64, 104, 104]   [32, 128, 104, 104]  73,984               True\n",
       "│    │    └─MaxPool2d (8_max)                 [32, 128, 104, 104]  [32, 128, 52, 52]    --                   --\n",
       "│    │    └─Conv2dBatchAct (9_convbatch)      [32, 128, 52, 52]    [32, 256, 52, 52]    295,424              True\n",
       "│    │    └─Conv2dBatchAct (10_convbatch)     [32, 256, 52, 52]    [32, 128, 52, 52]    33,024               True\n",
       "│    │    └─Conv2dBatchAct (11_convbatch)     [32, 128, 52, 52]    [32, 256, 52, 52]    295,424              True\n",
       "│    │    └─MaxPool2d (12_max)                [32, 256, 52, 52]    [32, 256, 26, 26]    --                   --\n",
       "│    │    └─Conv2dBatchAct (13_convbatch)     [32, 256, 26, 26]    [32, 512, 26, 26]    1,180,672            True\n",
       "│    │    └─Conv2dBatchAct (14_convbatch)     [32, 512, 26, 26]    [32, 256, 26, 26]    131,584              True\n",
       "│    │    └─Conv2dBatchAct (15_convbatch)     [32, 256, 26, 26]    [32, 512, 26, 26]    1,180,672            True\n",
       "│    │    └─Conv2dBatchAct (16_convbatch)     [32, 512, 26, 26]    [32, 256, 26, 26]    131,584              True\n",
       "│    │    └─Conv2dBatchAct (17_convbatch)     [32, 256, 26, 26]    [32, 512, 26, 26]    1,180,672            True\n",
       "│    │    └─MaxPool2d (18_max)                [32, 512, 26, 26]    [32, 512, 13, 13]    --                   --\n",
       "│    │    └─Conv2dBatchAct (19_convbatch)     [32, 512, 13, 13]    [32, 1024, 13, 13]   4,720,640            True\n",
       "│    │    └─Conv2dBatchAct (20_convbatch)     [32, 1024, 13, 13]   [32, 512, 13, 13]    525,312              True\n",
       "│    │    └─Conv2dBatchAct (21_convbatch)     [32, 512, 13, 13]    [32, 1024, 13, 13]   4,720,640            True\n",
       "│    │    └─Conv2dBatchAct (22_convbatch)     [32, 1024, 13, 13]   [32, 512, 13, 13]    525,312              True\n",
       "│    │    └─Conv2dBatchAct (23_convbatch)     [32, 512, 13, 13]    [32, 1024, 13, 13]   4,720,640            True\n",
       "├─ModuleList (neck)                           --                   --                   --                   True\n",
       "│    └─Sequential (0)                         [32, 1024, 13, 13]   [32, 1024, 13, 13]   --                   True\n",
       "│    │    └─Conv2dBatchAct (0)                [32, 1024, 13, 13]   [32, 1024, 13, 13]   9,439,232            True\n",
       "│    │    └─Conv2dBatchAct (1)                [32, 1024, 13, 13]   [32, 1024, 13, 13]   9,439,232            True\n",
       "│    └─Sequential (1)                         [32, 512, 26, 26]    [32, 256, 13, 13]    --                   True\n",
       "│    │    └─Conv2dBatchAct (0)                [32, 512, 26, 26]    [32, 64, 26, 26]     32,896               True\n",
       "│    │    └─Reorg (1)                         [32, 64, 26, 26]     [32, 256, 13, 13]    --                   --\n",
       "├─Sequential (head)                           [32, 1280, 13, 13]   [32, 40, 13, 13]     --                   True\n",
       "│    └─Conv2dBatchAct (0)                     [32, 1280, 13, 13]   [32, 1024, 13, 13]   --                   True\n",
       "│    │    └─ModuleList (layers)               --                   --                   11,798,528           True\n",
       "│    └─Conv2d (1)                             [32, 1024, 13, 13]   [32, 40, 13, 13]     41,000               True\n",
       "=============================================================================================================================\n",
       "Total params: 50,567,688\n",
       "Trainable params: 50,567,688\n",
       "Non-trainable params: 0\n",
       "Total mult-adds (G): 466.11\n",
       "=============================================================================================================================\n",
       "Input size (MB): 22.15\n",
       "Forward/backward pass size (MB): 8264.12\n",
       "Params size (MB): 202.27\n",
       "Estimated Total Size (MB): 8488.54\n",
       "============================================================================================================================="
      ]
     },
     "execution_count": 5,
     "metadata": {},
     "output_type": "execute_result"
    }
   ],
   "source": [
    "depth_model = model_builder(num_classes=3, model_type=\"depth\")\n",
    "\n",
    "# Print a summary using torchinfo (uncomment for actual output)\n",
    "summary(model=depth_model, \n",
    "        input_size=(32, 1, 416, 416), # make sure this is \"input_size\", not \"input_shape\"\n",
    "        # col_names=[\"input_size\"], # uncomment for smaller output\n",
    "        col_names=[\"input_size\", \"output_size\", \"num_params\", \"trainable\"],\n",
    "        col_width=20,\n",
    "        row_settings=[\"var_names\"]\n",
    ") "
   ]
  },
  {
   "cell_type": "code",
   "execution_count": 9,
   "metadata": {},
   "outputs": [],
   "source": [
    "fusion_model = model_builder(num_classes=3, model_type=\"rgbd\", fuse_layer=15)"
   ]
  },
  {
   "cell_type": "code",
   "execution_count": 12,
   "metadata": {},
   "outputs": [
    {
     "name": "stdout",
     "output_type": "stream",
     "text": [
      "torch.Size([1, 40, 13, 13])\n"
     ]
    }
   ],
   "source": [
    "input_tensor = torch.randn(1, 4, 416, 416)\n",
    "print(fusion_model(input_tensor).shape)"
   ]
  },
  {
   "cell_type": "code",
   "execution_count": 14,
   "metadata": {},
   "outputs": [
    {
     "data": {
      "text/plain": [
       "YoloFusion(\n",
       "  (layers): ModuleList(\n",
       "    (0): ModuleDict(\n",
       "      (1_convbatch_regular): Conv2dBatchAct(3, 32, kernel_size=(3, 3), stride=(1, 1), padding=(1, 1), LeakyReLU(negative_slope=0.1, inplace=True))\n",
       "      (1_convbatch_fusion): Conv2dBatchAct(1, 32, kernel_size=(3, 3), stride=(1, 1), padding=(1, 1), LeakyReLU(negative_slope=0.1, inplace=True))\n",
       "    )\n",
       "    (1): FusionSequential(\n",
       "      (Regular & Fusion): Sequential(\n",
       "        (2_max): MaxPool2d(kernel_size=2, stride=2, padding=0, dilation=1, ceil_mode=False)\n",
       "        (3_convbatch): Conv2dBatchAct(32, 64, kernel_size=(3, 3), stride=(1, 1), padding=(1, 1), LeakyReLU(negative_slope=0.1, inplace=True))\n",
       "        (4_max): MaxPool2d(kernel_size=2, stride=2, padding=0, dilation=1, ceil_mode=False)\n",
       "        (5_convbatch): Conv2dBatchAct(64, 128, kernel_size=(3, 3), stride=(1, 1), padding=(1, 1), LeakyReLU(negative_slope=0.1, inplace=True))\n",
       "        (6_convbatch): Conv2dBatchAct(128, 64, kernel_size=(1, 1), stride=(1, 1), padding=(0, 0), LeakyReLU(negative_slope=0.1, inplace=True))\n",
       "        (7_convbatch): Conv2dBatchAct(64, 128, kernel_size=(3, 3), stride=(1, 1), padding=(1, 1), LeakyReLU(negative_slope=0.1, inplace=True))\n",
       "        (8_max): MaxPool2d(kernel_size=2, stride=2, padding=0, dilation=1, ceil_mode=False)\n",
       "        (9_convbatch): Conv2dBatchAct(128, 256, kernel_size=(3, 3), stride=(1, 1), padding=(1, 1), LeakyReLU(negative_slope=0.1, inplace=True))\n",
       "        (10_convbatch): Conv2dBatchAct(256, 128, kernel_size=(1, 1), stride=(1, 1), padding=(0, 0), LeakyReLU(negative_slope=0.1, inplace=True))\n",
       "        (11_convbatch): Conv2dBatchAct(128, 256, kernel_size=(3, 3), stride=(1, 1), padding=(1, 1), LeakyReLU(negative_slope=0.1, inplace=True))\n",
       "        (12_max): MaxPool2d(kernel_size=2, stride=2, padding=0, dilation=1, ceil_mode=False)\n",
       "        (13_convbatch): Conv2dBatchAct(256, 512, kernel_size=(3, 3), stride=(1, 1), padding=(1, 1), LeakyReLU(negative_slope=0.1, inplace=True))\n",
       "        (14_convbatch): Conv2dBatchAct(512, 256, kernel_size=(1, 1), stride=(1, 1), padding=(0, 0), LeakyReLU(negative_slope=0.1, inplace=True))\n",
       "        (15_convbatch): Conv2dBatchAct(256, 512, kernel_size=(3, 3), stride=(1, 1), padding=(1, 1), LeakyReLU(negative_slope=0.1, inplace=True))\n",
       "      )\n",
       "      (Fuse): Conv2d(1024, 512, kernel_size=(1, 1), stride=(1, 1), bias=False)\n",
       "      (Combined): Sequential(\n",
       "        (16_convbatch): Conv2dBatchAct(512, 256, kernel_size=(1, 1), stride=(1, 1), padding=(0, 0), LeakyReLU(negative_slope=0.1, inplace=True))\n",
       "        (17_convbatch): Conv2dBatchAct(256, 512, kernel_size=(3, 3), stride=(1, 1), padding=(1, 1), LeakyReLU(negative_slope=0.1, inplace=True))\n",
       "      )\n",
       "    )\n",
       "    (2): FusionSequential(\n",
       "      (Combined): Sequential(\n",
       "        (18_max): MaxPool2d(kernel_size=2, stride=2, padding=0, dilation=1, ceil_mode=False)\n",
       "        (19_convbatch): Conv2dBatchAct(512, 1024, kernel_size=(3, 3), stride=(1, 1), padding=(1, 1), LeakyReLU(negative_slope=0.1, inplace=True))\n",
       "        (20_convbatch): Conv2dBatchAct(1024, 512, kernel_size=(1, 1), stride=(1, 1), padding=(0, 0), LeakyReLU(negative_slope=0.1, inplace=True))\n",
       "        (21_convbatch): Conv2dBatchAct(512, 1024, kernel_size=(3, 3), stride=(1, 1), padding=(1, 1), LeakyReLU(negative_slope=0.1, inplace=True))\n",
       "        (22_convbatch): Conv2dBatchAct(1024, 512, kernel_size=(1, 1), stride=(1, 1), padding=(0, 0), LeakyReLU(negative_slope=0.1, inplace=True))\n",
       "        (23_convbatch): Conv2dBatchAct(512, 1024, kernel_size=(3, 3), stride=(1, 1), padding=(1, 1), LeakyReLU(negative_slope=0.1, inplace=True))\n",
       "        (24_convbatch): Conv2dBatchAct(1024, 1024, kernel_size=(3, 3), stride=(1, 1), padding=(1, 1), LeakyReLU(negative_slope=0.1, inplace=True))\n",
       "        (25_convbatch): Conv2dBatchAct(1024, 1024, kernel_size=(3, 3), stride=(1, 1), padding=(1, 1), LeakyReLU(negative_slope=0.1, inplace=True))\n",
       "      )\n",
       "    )\n",
       "    (3): FusionSequential(\n",
       "      (Combined): Sequential(\n",
       "        (26_convbatch): Conv2dBatchAct(1280, 1024, kernel_size=(3, 3), stride=(1, 1), padding=(1, 1), LeakyReLU(negative_slope=0.1, inplace=True))\n",
       "        (27_conv): Conv2d(1024, 40, kernel_size=(1, 1), stride=(1, 1))\n",
       "      )\n",
       "    )\n",
       "    (4): Sequential(\n",
       "      (P1_convbatch): Conv2dBatchAct(512, 64, kernel_size=(1, 1), stride=(1, 1), padding=(0, 0), LeakyReLU(negative_slope=0.1, inplace=True))\n",
       "      (P2_reorg): Reorg(stride=2)\n",
       "    )\n",
       "  )\n",
       ")"
      ]
     },
     "execution_count": 14,
     "metadata": {},
     "output_type": "execute_result"
    }
   ],
   "source": [
    "fusion_model"
   ]
  },
  {
   "cell_type": "code",
   "execution_count": null,
   "metadata": {},
   "outputs": [],
   "source": []
  }
 ],
 "metadata": {
  "kernelspec": {
   "display_name": ".venv",
   "language": "python",
   "name": "python3"
  },
  "language_info": {
   "codemirror_mode": {
    "name": "ipython",
    "version": 3
   },
   "file_extension": ".py",
   "mimetype": "text/x-python",
   "name": "python",
   "nbconvert_exporter": "python",
   "pygments_lexer": "ipython3",
   "version": "3.10.12"
  }
 },
 "nbformat": 4,
 "nbformat_minor": 2
}
