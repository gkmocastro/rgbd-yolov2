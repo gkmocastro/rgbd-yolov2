{
 "cells": [
  {
   "cell_type": "code",
   "execution_count": 1,
   "metadata": {},
   "outputs": [
    {
     "name": "stderr",
     "output_type": "stream",
     "text": [
      "/home/gkmo/workspace/rgbd-yolov2/.venv/lib/python3.10/site-packages/tqdm/auto.py:21: TqdmWarning: IProgress not found. Please update jupyter and ipywidgets. See https://ipywidgets.readthedocs.io/en/stable/user_install.html\n",
      "  from .autonotebook import tqdm as notebook_tqdm\n"
     ]
    }
   ],
   "source": [
    "import torch\n",
    "from torchinfo import summary\n",
    "from model import model_builder"
   ]
  },
  {
   "cell_type": "code",
   "execution_count": 2,
   "metadata": {},
   "outputs": [],
   "source": [
    "# model = ln.models.Darknet19(1000)\n",
    "# model.load('weights/darknet19_448.weights')\n",
    "\n",
    "# # Save as PyTorch weight file (Not strictly necessary, but it is faster than darknet weight files)\n",
    "# model.save('weights/darknet19_448.pt')\n",
    "\n",
    "# # Converting Darknet19 weights to Yolo (This is the same as the darknet19_448.conv.23.weights from darknet)\n",
    "# model.save('weights/yolo-pretrained_darknet.pt', remap=ln.models.YoloV2.remap_darknet19)\n",
    "\n",
    "# # Load yolo weights (Requires `strict=False`, because not all layers have weights in this file)\n",
    "# detection_model = ln.models.YoloV2(3)\n",
    "# detection_model.load('weights/yolo-pretrained_darknet.pt', strict=False)"
   ]
  },
  {
   "cell_type": "markdown",
   "metadata": {},
   "source": [
    "## Test the weights of rgbd network"
   ]
  },
  {
   "cell_type": "code",
   "execution_count": 2,
   "metadata": {},
   "outputs": [
    {
     "name": "stderr",
     "output_type": "stream",
     "text": [
      "/home/gkmo/workspace/rgbd-yolov2/.venv/lib/python3.10/site-packages/lightnet/network/module/_lightnet.py:293: FutureWarning: You are using `torch.load` with `weights_only=False` (the current default value), which uses the default pickle module implicitly. It is possible to construct malicious pickle data which will execute arbitrary code during unpickling (See https://github.com/pytorch/pytorch/blob/main/SECURITY.md#untrusted-models for more details). In a future release, the default value for `weights_only` will be flipped to `True`. This limits the functions that could be executed during unpickling. Arbitrary objects will no longer be allowed to be loaded via this mode unless they are explicitly allowlisted by the user via `torch.serialization.add_safe_globals`. We recommend you start setting `weights_only=True` for any use case where you don't have full control of the loaded file. Please open an issue on GitHub for any issues related to this experimental feature.\n",
      "  state = torch.load(weights_file, 'cpu')\n",
      "Modules not matching, performing partial update\n"
     ]
    }
   ],
   "source": [
    "rgb_model = model_builder(num_classes=3, model_type=\"rgb\")\n",
    "# summary(model=rgb_model, \n",
    "#         input_size=(32, 3, 416, 416), # make sure this is \"input_size\", not \"input_shape\"\n",
    "#         # col_names=[\"input_size\"], # uncomment for smaller output\n",
    "#         col_names=[\"input_size\", \"output_size\", \"num_params\", \"trainable\"],\n",
    "#         col_width=20,\n",
    "#         row_settings=[\"var_names\"])"
   ]
  },
  {
   "cell_type": "code",
   "execution_count": 3,
   "metadata": {},
   "outputs": [
    {
     "name": "stderr",
     "output_type": "stream",
     "text": [
      "/tmp/ipykernel_6681/3341212066.py:1: FutureWarning: You are using `torch.load` with `weights_only=False` (the current default value), which uses the default pickle module implicitly. It is possible to construct malicious pickle data which will execute arbitrary code during unpickling (See https://github.com/pytorch/pytorch/blob/main/SECURITY.md#untrusted-models for more details). In a future release, the default value for `weights_only` will be flipped to `True`. This limits the functions that could be executed during unpickling. Arbitrary objects will no longer be allowed to be loaded via this mode unless they are explicitly allowlisted by the user via `torch.serialization.add_safe_globals`. We recommend you start setting `weights_only=True` for any use case where you don't have full control of the loaded file. Please open an issue on GitHub for any issues related to this experimental feature.\n",
      "  depth_pretrained = torch.load(\"models/depth_99.pth\")\n"
     ]
    }
   ],
   "source": [
    "depth_pretrained = torch.load(\"models/depth_99.pth\")"
   ]
  },
  {
   "cell_type": "code",
   "execution_count": 4,
   "metadata": {},
   "outputs": [
    {
     "name": "stdout",
     "output_type": "stream",
     "text": [
      "Weights equivalent\n"
     ]
    }
   ],
   "source": [
    "fusion_model = model_builder(num_classes=3, model_type=\"rgbd\", fuse_layer=15)"
   ]
  },
  {
   "cell_type": "code",
   "execution_count": 5,
   "metadata": {},
   "outputs": [
    {
     "name": "stdout",
     "output_type": "stream",
     "text": [
      "torch.Size([32, 40, 13, 13])\n"
     ]
    }
   ],
   "source": [
    "input_tensor = torch.randn(32, 3, 416, 416)\n",
    "output_tensor = rgb_model(input_tensor)\n",
    "print(output_tensor.shape)"
   ]
  },
  {
   "cell_type": "code",
   "execution_count": 17,
   "metadata": {},
   "outputs": [
    {
     "data": {
      "text/plain": [
       "tensor(1)"
      ]
     },
     "execution_count": 17,
     "metadata": {},
     "output_type": "execute_result"
    }
   ],
   "source": [
    "rgb_model.state_dict()[\"backbone.module.1_convbatch.layers.1.num_batches_tracked\"]"
   ]
  },
  {
   "cell_type": "code",
   "execution_count": 24,
   "metadata": {},
   "outputs": [
    {
     "name": "stdout",
     "output_type": "stream",
     "text": [
      "backbone.module.1_convbatch.layers.0.weight\n",
      "backbone.module.1_convbatch.layers.1.weight\n",
      "backbone.module.1_convbatch.layers.1.bias\n",
      "backbone.module.1_convbatch.layers.1.running_mean\n",
      "backbone.module.1_convbatch.layers.1.running_var\n",
      "backbone.module.1_convbatch.layers.1.num_batches_tracked\n",
      "backbone.module.3_convbatch.layers.0.weight\n",
      "backbone.module.3_convbatch.layers.1.weight\n",
      "backbone.module.3_convbatch.layers.1.bias\n",
      "backbone.module.3_convbatch.layers.1.running_mean\n",
      "backbone.module.3_convbatch.layers.1.running_var\n",
      "backbone.module.3_convbatch.layers.1.num_batches_tracked\n",
      "backbone.module.5_convbatch.layers.0.weight\n",
      "backbone.module.5_convbatch.layers.1.weight\n",
      "backbone.module.5_convbatch.layers.1.bias\n",
      "backbone.module.5_convbatch.layers.1.running_mean\n",
      "backbone.module.5_convbatch.layers.1.running_var\n",
      "backbone.module.5_convbatch.layers.1.num_batches_tracked\n",
      "backbone.module.6_convbatch.layers.0.weight\n",
      "backbone.module.6_convbatch.layers.1.weight\n",
      "backbone.module.6_convbatch.layers.1.bias\n",
      "backbone.module.6_convbatch.layers.1.running_mean\n",
      "backbone.module.6_convbatch.layers.1.running_var\n",
      "backbone.module.6_convbatch.layers.1.num_batches_tracked\n",
      "backbone.module.7_convbatch.layers.0.weight\n",
      "backbone.module.7_convbatch.layers.1.weight\n",
      "backbone.module.7_convbatch.layers.1.bias\n",
      "backbone.module.7_convbatch.layers.1.running_mean\n",
      "backbone.module.7_convbatch.layers.1.running_var\n",
      "backbone.module.7_convbatch.layers.1.num_batches_tracked\n",
      "backbone.module.9_convbatch.layers.0.weight\n",
      "backbone.module.9_convbatch.layers.1.weight\n",
      "backbone.module.9_convbatch.layers.1.bias\n",
      "backbone.module.9_convbatch.layers.1.running_mean\n",
      "backbone.module.9_convbatch.layers.1.running_var\n",
      "backbone.module.9_convbatch.layers.1.num_batches_tracked\n",
      "backbone.module.10_convbatch.layers.0.weight\n",
      "backbone.module.10_convbatch.layers.1.weight\n",
      "backbone.module.10_convbatch.layers.1.bias\n",
      "backbone.module.10_convbatch.layers.1.running_mean\n",
      "backbone.module.10_convbatch.layers.1.running_var\n",
      "backbone.module.10_convbatch.layers.1.num_batches_tracked\n",
      "backbone.module.11_convbatch.layers.0.weight\n",
      "backbone.module.11_convbatch.layers.1.weight\n",
      "backbone.module.11_convbatch.layers.1.bias\n",
      "backbone.module.11_convbatch.layers.1.running_mean\n",
      "backbone.module.11_convbatch.layers.1.running_var\n",
      "backbone.module.11_convbatch.layers.1.num_batches_tracked\n",
      "backbone.module.13_convbatch.layers.0.weight\n",
      "backbone.module.13_convbatch.layers.1.weight\n",
      "backbone.module.13_convbatch.layers.1.bias\n",
      "backbone.module.13_convbatch.layers.1.running_mean\n",
      "backbone.module.13_convbatch.layers.1.running_var\n",
      "backbone.module.13_convbatch.layers.1.num_batches_tracked\n",
      "backbone.module.14_convbatch.layers.0.weight\n",
      "backbone.module.14_convbatch.layers.1.weight\n",
      "backbone.module.14_convbatch.layers.1.bias\n",
      "backbone.module.14_convbatch.layers.1.running_mean\n",
      "backbone.module.14_convbatch.layers.1.running_var\n",
      "backbone.module.14_convbatch.layers.1.num_batches_tracked\n",
      "backbone.module.15_convbatch.layers.0.weight\n",
      "backbone.module.15_convbatch.layers.1.weight\n",
      "backbone.module.15_convbatch.layers.1.bias\n",
      "backbone.module.15_convbatch.layers.1.running_mean\n",
      "backbone.module.15_convbatch.layers.1.running_var\n",
      "backbone.module.15_convbatch.layers.1.num_batches_tracked\n",
      "backbone.module.16_convbatch.layers.0.weight\n",
      "backbone.module.16_convbatch.layers.1.weight\n",
      "backbone.module.16_convbatch.layers.1.bias\n",
      "backbone.module.16_convbatch.layers.1.running_mean\n",
      "backbone.module.16_convbatch.layers.1.running_var\n",
      "backbone.module.16_convbatch.layers.1.num_batches_tracked\n",
      "backbone.module.17_convbatch.layers.0.weight\n",
      "backbone.module.17_convbatch.layers.1.weight\n",
      "backbone.module.17_convbatch.layers.1.bias\n",
      "backbone.module.17_convbatch.layers.1.running_mean\n",
      "backbone.module.17_convbatch.layers.1.running_var\n",
      "backbone.module.17_convbatch.layers.1.num_batches_tracked\n",
      "backbone.module.19_convbatch.layers.0.weight\n",
      "backbone.module.19_convbatch.layers.1.weight\n",
      "backbone.module.19_convbatch.layers.1.bias\n",
      "backbone.module.19_convbatch.layers.1.running_mean\n",
      "backbone.module.19_convbatch.layers.1.running_var\n",
      "backbone.module.19_convbatch.layers.1.num_batches_tracked\n",
      "backbone.module.20_convbatch.layers.0.weight\n",
      "backbone.module.20_convbatch.layers.1.weight\n",
      "backbone.module.20_convbatch.layers.1.bias\n",
      "backbone.module.20_convbatch.layers.1.running_mean\n",
      "backbone.module.20_convbatch.layers.1.running_var\n",
      "backbone.module.20_convbatch.layers.1.num_batches_tracked\n",
      "backbone.module.21_convbatch.layers.0.weight\n",
      "backbone.module.21_convbatch.layers.1.weight\n",
      "backbone.module.21_convbatch.layers.1.bias\n",
      "backbone.module.21_convbatch.layers.1.running_mean\n",
      "backbone.module.21_convbatch.layers.1.running_var\n",
      "backbone.module.21_convbatch.layers.1.num_batches_tracked\n",
      "backbone.module.22_convbatch.layers.0.weight\n",
      "backbone.module.22_convbatch.layers.1.weight\n",
      "backbone.module.22_convbatch.layers.1.bias\n",
      "backbone.module.22_convbatch.layers.1.running_mean\n",
      "backbone.module.22_convbatch.layers.1.running_var\n",
      "backbone.module.22_convbatch.layers.1.num_batches_tracked\n",
      "backbone.module.23_convbatch.layers.0.weight\n",
      "backbone.module.23_convbatch.layers.1.weight\n",
      "backbone.module.23_convbatch.layers.1.bias\n",
      "backbone.module.23_convbatch.layers.1.running_mean\n",
      "backbone.module.23_convbatch.layers.1.running_var\n",
      "backbone.module.23_convbatch.layers.1.num_batches_tracked\n",
      "neck.0.0.layers.0.weight\n",
      "neck.0.0.layers.1.weight\n",
      "neck.0.0.layers.1.bias\n",
      "neck.0.0.layers.1.running_mean\n",
      "neck.0.0.layers.1.running_var\n",
      "neck.0.0.layers.1.num_batches_tracked\n",
      "neck.0.1.layers.0.weight\n",
      "neck.0.1.layers.1.weight\n",
      "neck.0.1.layers.1.bias\n",
      "neck.0.1.layers.1.running_mean\n",
      "neck.0.1.layers.1.running_var\n",
      "neck.0.1.layers.1.num_batches_tracked\n",
      "neck.1.0.layers.0.weight\n",
      "neck.1.0.layers.1.weight\n",
      "neck.1.0.layers.1.bias\n",
      "neck.1.0.layers.1.running_mean\n",
      "neck.1.0.layers.1.running_var\n",
      "neck.1.0.layers.1.num_batches_tracked\n",
      "head.0.layers.0.weight\n",
      "head.0.layers.1.weight\n",
      "head.0.layers.1.bias\n",
      "head.0.layers.1.running_mean\n",
      "head.0.layers.1.running_var\n",
      "head.0.layers.1.num_batches_tracked\n",
      "head.1.weight\n",
      "head.1.bias\n",
      "_LN_MODEL_VERSION\n"
     ]
    }
   ],
   "source": [
    "#fusion_model.state_dict().keys()\n",
    "\n",
    "for key, value in rgb_model.state_dict().items():\n",
    "    print(key)"
   ]
  },
  {
   "cell_type": "code",
   "execution_count": 22,
   "metadata": {},
   "outputs": [],
   "source": [
    "rgbd_regular_weight = fusion_model.state_dict()['layers.1.regular.11_convbatch.layers.1.weight'].cpu()\n",
    "rgb_weight = rgb_model.state_dict()['backbone.module.11_convbatch.layers.1.weight'].cpu()"
   ]
  },
  {
   "cell_type": "code",
   "execution_count": 30,
   "metadata": {},
   "outputs": [],
   "source": [
    "depth_weight = depth_pretrained['backbone.module.10_convbatch.layers.1.weight'].cpu()\n",
    "rgbd_fusion_fusion_weight = fusion_model.state_dict()['layers.1.fusion.10_convbatch.layers.1.weight'].cpu()"
   ]
  },
  {
   "cell_type": "code",
   "execution_count": 31,
   "metadata": {},
   "outputs": [
    {
     "data": {
      "text/plain": [
       "True"
      ]
     },
     "execution_count": 31,
     "metadata": {},
     "output_type": "execute_result"
    }
   ],
   "source": [
    "torch.equal(depth_weight, rgbd_fusion_fusion_weight)"
   ]
  },
  {
   "cell_type": "code",
   "execution_count": 32,
   "metadata": {},
   "outputs": [
    {
     "data": {
      "text/plain": [
       "True"
      ]
     },
     "execution_count": 32,
     "metadata": {},
     "output_type": "execute_result"
    }
   ],
   "source": [
    "torch.equal(rgbd_regular_weight, rgb_weight)"
   ]
  }
 ],
 "metadata": {
  "kernelspec": {
   "display_name": ".venv",
   "language": "python",
   "name": "python3"
  },
  "language_info": {
   "codemirror_mode": {
    "name": "ipython",
    "version": 3
   },
   "file_extension": ".py",
   "mimetype": "text/x-python",
   "name": "python",
   "nbconvert_exporter": "python",
   "pygments_lexer": "ipython3",
   "version": "3.10.16"
  }
 },
 "nbformat": 4,
 "nbformat_minor": 2
}
