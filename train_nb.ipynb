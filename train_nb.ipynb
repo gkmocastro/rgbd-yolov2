{
 "cells": [
  {
   "cell_type": "code",
   "execution_count": null,
   "metadata": {},
   "outputs": [
    {
     "name": "stderr",
     "output_type": "stream",
     "text": [
      "/home/gustavo/workstation/depth_estimation/codes/rgbd-yolov2/.venv/lib/python3.10/site-packages/tqdm/auto.py:21: TqdmWarning: IProgress not found. Please update jupyter and ipywidgets. See https://ipywidgets.readthedocs.io/en/stable/user_install.html\n",
      "  from .autonotebook import tqdm as notebook_tqdm\n"
     ]
    },
    {
     "name": "stdout",
     "output_type": "stream",
     "text": [
      "Using Device cuda\n"
     ]
    },
    {
     "name": "stderr",
     "output_type": "stream",
     "text": [
      "/home/gustavo/workstation/depth_estimation/codes/rgbd-yolov2/.venv/lib/python3.10/site-packages/lightnet/network/module/_lightnet.py:293: FutureWarning: You are using `torch.load` with `weights_only=False` (the current default value), which uses the default pickle module implicitly. It is possible to construct malicious pickle data which will execute arbitrary code during unpickling (See https://github.com/pytorch/pytorch/blob/main/SECURITY.md#untrusted-models for more details). In a future release, the default value for `weights_only` will be flipped to `True`. This limits the functions that could be executed during unpickling. Arbitrary objects will no longer be allowed to be loaded via this mode unless they are explicitly allowlisted by the user via `torch.serialization.add_safe_globals`. We recommend you start setting `weights_only=True` for any use case where you don't have full control of the loaded file. Please open an issue on GitHub for any issues related to this experimental feature.\n",
      "  state = torch.load(weights_file, 'cpu')\n",
      "Modules not matching, performing partial update\n"
     ]
    },
    {
     "name": "stdout",
     "output_type": "stream",
     "text": [
      "Epoch [1/5], Loss: 19.4483\n",
      "Epoch [2/5], Loss: 3.5789\n",
      "Epoch [3/5], Loss: 2.3008\n",
      "Epoch [4/5], Loss: 1.7825\n",
      "Epoch [5/5], Loss: 1.4573\n"
     ]
    },
    {
     "data": {
      "text/plain": [
       "[19.448327084276126,\n",
       " 3.578894717648705,\n",
       " 2.3007548868178045,\n",
       " 1.7825287524710365,\n",
       " 1.4573119207818241]"
      ]
     },
     "execution_count": 1,
     "metadata": {},
     "output_type": "execute_result"
    }
   ],
   "source": [
    "import torch\n",
    "from torch.utils.data import DataLoader\n",
    "from dataset import YoloDarknetDataset\n",
    "from torchvision import transforms\n",
    "import torch.optim as optim\n",
    "from train import train_yolov2\n",
    "import os\n",
    "from model import model_builder\n",
    "import lightnet as ln\n",
    "\n",
    "#IMG_DIR = \"/home/gustavo/workstation/depth_estimation/codes/rgbd-yolov2/data/images_test/\"\n",
    "TRAIN_IMG_DIR = \"data/data_split/train/images\"\n",
    "TRAIN_DEPTH_DIR = \"data/data_split/train/depth\"\n",
    "#LABEL_DIR =  \"/home/gustavo/workstation/depth_estimation/codes/rgbd-yolov2/data/labels\"\n",
    "TRAIN_LABEL_DIR =  \"data/data_split/train/labels\"\n",
    "BATCH_SIZE = 16\n",
    "NUM_WORKERS = os.cpu_count()\n",
    "LEARNING_RATE = 0.01\n",
    "NUM_EPOCHS = 100\n",
    "DEVICE = \"cuda\" if torch.cuda.is_available() else \"cpu\"\n",
    "\n",
    "print(f\"Using Device {DEVICE}\")\n",
    "\n",
    "model = model_builder(num_classes=3).to(DEVICE)\n",
    "\n",
    "loss_fn = ln.network.loss.RegionLoss(\n",
    "    num_classes= model.num_classes,\n",
    "    anchors=model.anchors,\n",
    "    network_stride=model.stride\n",
    ").to(DEVICE)\n",
    "\n",
    "optimizer = optim.Adam(\n",
    "    model.parameters(),\n",
    "    lr=LEARNING_RATE,\n",
    ")\n",
    "\n",
    "train_transforms = transforms.Compose([\n",
    "    transforms.Resize((416, 416)),\n",
    "    transforms.ToTensor()\n",
    "])\n",
    "\n",
    "train_dataset = YoloDarknetDataset(\n",
    "    images_dir=TRAIN_IMG_DIR,\n",
    "    depth_dir=\n",
    "    labels_dir=TRAIN_LABEL_DIR,\n",
    "    classes=[\"Cyclist\", \"Pedestrian\", \"Car\"],\n",
    "    transform=train_transforms,\n",
    ")\n",
    "\n",
    "train_dataloader = DataLoader(\n",
    "    train_dataset,\n",
    "    batch_size=BATCH_SIZE,\n",
    "    shuffle=True,\n",
    "    num_workers=NUM_WORKERS,\n",
    "    pin_memory=True\n",
    ")\n",
    "\n",
    "\n",
    "train_yolov2(model=model, \n",
    "             train_dataloader=train_dataloader, \n",
    "             loss_fn=loss_fn, \n",
    "             optimizer=optimizer, \n",
    "             num_epochs=NUM_EPOCHS, \n",
    "             device=DEVICE)"
   ]
  },
  {
   "cell_type": "code",
   "execution_count": 3,
   "metadata": {},
   "outputs": [],
   "source": [
    "model.save(\"models/5_epochs_split.pt\")"
   ]
  },
  {
   "cell_type": "code",
   "execution_count": 2,
   "metadata": {},
   "outputs": [],
   "source": [
    "empty_list = []"
   ]
  }
 ],
 "metadata": {
  "kernelspec": {
   "display_name": ".venv",
   "language": "python",
   "name": "python3"
  },
  "language_info": {
   "codemirror_mode": {
    "name": "ipython",
    "version": 3
   },
   "file_extension": ".py",
   "mimetype": "text/x-python",
   "name": "python",
   "nbconvert_exporter": "python",
   "pygments_lexer": "ipython3",
   "version": "3.10.12"
  }
 },
 "nbformat": 4,
 "nbformat_minor": 2
}
